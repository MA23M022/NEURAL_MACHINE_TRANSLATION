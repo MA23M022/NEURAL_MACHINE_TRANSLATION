{
 "cells": [
  {
   "cell_type": "markdown",
   "metadata": {
    "id": "dun0K4CMqSj6"
   },
   "source": [
    "# Importing Libraries"
   ]
  },
  {
   "cell_type": "code",
   "execution_count": 1,
   "metadata": {
    "execution": {
     "iopub.execute_input": "2025-04-18T17:10:42.953094Z",
     "iopub.status.busy": "2025-04-18T17:10:42.952300Z",
     "iopub.status.idle": "2025-04-18T17:10:47.298717Z",
     "shell.execute_reply": "2025-04-18T17:10:47.297999Z",
     "shell.execute_reply.started": "2025-04-18T17:10:42.953063Z"
    },
    "id": "uJEnbhtFHa2s",
    "trusted": true
   },
   "outputs": [],
   "source": [
    "from __future__ import unicode_literals, print_function, division\n",
    "from io import open\n",
    "import unicodedata\n",
    "import re\n",
    "import random\n",
    "import contractions\n",
    "import torch\n",
    "import torch.nn as nn\n",
    "from torch import optim\n",
    "import torch.nn.functional as F\n",
    "import pandas as pd\n",
    "import numpy as np\n",
    "import matplotlib.pyplot as plt\n",
    "plt.switch_backend('agg')\n",
    "import matplotlib.ticker as ticker\n",
    "import numpy as np\n",
    "from torch.utils.data import TensorDataset, DataLoader, RandomSampler"
   ]
  },
  {
   "cell_type": "code",
   "execution_count": 2,
   "metadata": {
    "execution": {
     "iopub.execute_input": "2025-04-18T19:11:12.932351Z",
     "iopub.status.busy": "2025-04-18T19:11:12.931723Z",
     "iopub.status.idle": "2025-04-18T19:11:13.996304Z",
     "shell.execute_reply": "2025-04-18T19:11:13.995780Z",
     "shell.execute_reply.started": "2025-04-18T19:11:12.932325Z"
    },
    "trusted": true
   },
   "outputs": [],
   "source": [
    "from nltk.translate.bleu_score import sentence_bleu, SmoothingFunction"
   ]
  },
  {
   "cell_type": "code",
   "execution_count": 3,
   "metadata": {
    "execution": {
     "iopub.execute_input": "2025-04-18T17:10:51.433364Z",
     "iopub.status.busy": "2025-04-18T17:10:51.432984Z",
     "iopub.status.idle": "2025-04-18T17:10:51.518985Z",
     "shell.execute_reply": "2025-04-18T17:10:51.518138Z",
     "shell.execute_reply.started": "2025-04-18T17:10:51.433342Z"
    },
    "id": "l2NwpwNKyKpS",
    "trusted": true
   },
   "outputs": [
    {
     "name": "stdout",
     "output_type": "stream",
     "text": [
      "cpu\n"
     ]
    }
   ],
   "source": [
    "device = torch.device(\"cuda\" if torch.cuda.is_available() else \"cpu\")\n",
    "print(device)"
   ]
  },
  {
   "cell_type": "markdown",
   "metadata": {
    "id": "F8hVgnEeqmvu"
   },
   "source": [
    "# Reading the file and split into lines"
   ]
  },
  {
   "cell_type": "code",
   "execution_count": 4,
   "metadata": {
    "execution": {
     "iopub.execute_input": "2025-04-18T17:10:56.949156Z",
     "iopub.status.busy": "2025-04-18T17:10:56.948887Z",
     "iopub.status.idle": "2025-04-18T17:10:57.195691Z",
     "shell.execute_reply": "2025-04-18T17:10:57.195156Z",
     "shell.execute_reply.started": "2025-04-18T17:10:56.949136Z"
    },
    "trusted": true
   },
   "outputs": [
    {
     "data": {
      "text/html": [
       "<div>\n",
       "<style scoped>\n",
       "    .dataframe tbody tr th:only-of-type {\n",
       "        vertical-align: middle;\n",
       "    }\n",
       "\n",
       "    .dataframe tbody tr th {\n",
       "        vertical-align: top;\n",
       "    }\n",
       "\n",
       "    .dataframe thead th {\n",
       "        text-align: right;\n",
       "    }\n",
       "</style>\n",
       "<table border=\"1\" class=\"dataframe\">\n",
       "  <thead>\n",
       "    <tr style=\"text-align: right;\">\n",
       "      <th></th>\n",
       "      <th>en</th>\n",
       "      <th>bn</th>\n",
       "    </tr>\n",
       "  </thead>\n",
       "  <tbody>\n",
       "    <tr>\n",
       "      <th>0</th>\n",
       "      <td>a child in a pink dress is climbing up a set o...</td>\n",
       "      <td>একটি গোলাপী জামা পরা বাচ্চা মেয়ে একটি বাড়ির প্...</td>\n",
       "    </tr>\n",
       "    <tr>\n",
       "      <th>1</th>\n",
       "      <td>a girl going into a wooden building .</td>\n",
       "      <td>একটি মেয়ে শিশু একটি কাঠের বাড়িতে ঢুকছে</td>\n",
       "    </tr>\n",
       "    <tr>\n",
       "      <th>2</th>\n",
       "      <td>a little girl climbing into a wooden playhouse .</td>\n",
       "      <td>একটি বাচ্চা তার কাঠের খেলাঘরে উঠছে ।</td>\n",
       "    </tr>\n",
       "    <tr>\n",
       "      <th>3</th>\n",
       "      <td>a little girl climbing the stairs to her playh...</td>\n",
       "      <td>ছোট মেয়েটি তার খেলার ঘরের সিড়ি বেয়ে উঠছে</td>\n",
       "    </tr>\n",
       "    <tr>\n",
       "      <th>4</th>\n",
       "      <td>a little girl in a pink dress going into a woo...</td>\n",
       "      <td>গোলাপি জামা পড়া ছোট একটি মেয়ে একটি কাঠের তৈরি...</td>\n",
       "    </tr>\n",
       "  </tbody>\n",
       "</table>\n",
       "</div>"
      ],
      "text/plain": [
       "                                                  en  \\\n",
       "0  a child in a pink dress is climbing up a set o...   \n",
       "1              a girl going into a wooden building .   \n",
       "2   a little girl climbing into a wooden playhouse .   \n",
       "3  a little girl climbing the stairs to her playh...   \n",
       "4  a little girl in a pink dress going into a woo...   \n",
       "\n",
       "                                                  bn  \n",
       "0  একটি গোলাপী জামা পরা বাচ্চা মেয়ে একটি বাড়ির প্...  \n",
       "1             একটি মেয়ে শিশু একটি কাঠের বাড়িতে ঢুকছে  \n",
       "2               একটি বাচ্চা তার কাঠের খেলাঘরে উঠছে ।  \n",
       "3           ছোট মেয়েটি তার খেলার ঘরের সিড়ি বেয়ে উঠছে  \n",
       "4  গোলাপি জামা পড়া ছোট একটি মেয়ে একটি কাঠের তৈরি...  "
      ]
     },
     "execution_count": 4,
     "metadata": {},
     "output_type": "execute_result"
    }
   ],
   "source": [
    "# Read the csv file.\n",
    "\n",
    "df2 = pd.read_csv(\"backend/data/raw/english_to_bangla.csv\", encoding='utf-8')\n",
    "df2.head()\n"
   ]
  },
  {
   "cell_type": "code",
   "execution_count": 5,
   "metadata": {
    "execution": {
     "iopub.execute_input": "2025-04-18T17:11:00.986358Z",
     "iopub.status.busy": "2025-04-18T17:11:00.986110Z",
     "iopub.status.idle": "2025-04-18T17:11:00.992067Z",
     "shell.execute_reply": "2025-04-18T17:11:00.991517Z",
     "shell.execute_reply.started": "2025-04-18T17:11:00.986340Z"
    },
    "trusted": true
   },
   "outputs": [
    {
     "data": {
      "text/plain": [
       "'a child in a pink dress is climbing up a set of stairs in an entry way .'"
      ]
     },
     "execution_count": 5,
     "metadata": {},
     "output_type": "execute_result"
    }
   ],
   "source": [
    "df2[\"en\"][0]"
   ]
  },
  {
   "cell_type": "code",
   "execution_count": 6,
   "metadata": {
    "execution": {
     "iopub.execute_input": "2025-04-18T17:11:04.237038Z",
     "iopub.status.busy": "2025-04-18T17:11:04.236775Z",
     "iopub.status.idle": "2025-04-18T17:11:04.242158Z",
     "shell.execute_reply": "2025-04-18T17:11:04.241475Z",
     "shell.execute_reply.started": "2025-04-18T17:11:04.237021Z"
    },
    "trusted": true
   },
   "outputs": [
    {
     "data": {
      "text/plain": [
       "'একটি গোলাপী জামা পরা বাচ্চা মেয়ে একটি বাড়ির প্রবেশ পথের সিঁড়ি বেয়ে উঠছে।'"
      ]
     },
     "execution_count": 6,
     "metadata": {},
     "output_type": "execute_result"
    }
   ],
   "source": [
    "df2[\"bn\"][0]"
   ]
  },
  {
   "cell_type": "code",
   "execution_count": null,
   "metadata": {
    "execution": {
     "iopub.execute_input": "2025-04-18T17:11:07.174381Z",
     "iopub.status.busy": "2025-04-18T17:11:07.174145Z",
     "iopub.status.idle": "2025-04-18T17:11:07.218821Z",
     "shell.execute_reply": "2025-04-18T17:11:07.218105Z",
     "shell.execute_reply.started": "2025-04-18T17:11:07.174365Z"
    },
    "trusted": true
   },
   "outputs": [
    {
     "data": {
      "text/html": [
       "<div>\n",
       "<style scoped>\n",
       "    .dataframe tbody tr th:only-of-type {\n",
       "        vertical-align: middle;\n",
       "    }\n",
       "\n",
       "    .dataframe tbody tr th {\n",
       "        vertical-align: top;\n",
       "    }\n",
       "\n",
       "    .dataframe thead th {\n",
       "        text-align: right;\n",
       "    }\n",
       "</style>\n",
       "<table border=\"1\" class=\"dataframe\">\n",
       "  <thead>\n",
       "    <tr style=\"text-align: right;\">\n",
       "      <th></th>\n",
       "      <th>en</th>\n",
       "      <th>bn</th>\n",
       "    </tr>\n",
       "  </thead>\n",
       "  <tbody>\n",
       "    <tr>\n",
       "      <th>0</th>\n",
       "      <td>Go.</td>\n",
       "      <td>যান।</td>\n",
       "    </tr>\n",
       "    <tr>\n",
       "      <th>1</th>\n",
       "      <td>Go.</td>\n",
       "      <td>যা।</td>\n",
       "    </tr>\n",
       "    <tr>\n",
       "      <th>2</th>\n",
       "      <td>Run!</td>\n",
       "      <td>পালাও!</td>\n",
       "    </tr>\n",
       "    <tr>\n",
       "      <th>3</th>\n",
       "      <td>Run!</td>\n",
       "      <td>পালান!</td>\n",
       "    </tr>\n",
       "    <tr>\n",
       "      <th>4</th>\n",
       "      <td>Who?</td>\n",
       "      <td>কে?</td>\n",
       "    </tr>\n",
       "  </tbody>\n",
       "</table>\n",
       "</div>"
      ],
      "text/plain": [
       "     en      bn\n",
       "0   Go.    যান।\n",
       "1   Go.     যা।\n",
       "2  Run!  পালাও!\n",
       "3  Run!  পালান!\n",
       "4  Who?     কে?"
      ]
     },
     "execution_count": 7,
     "metadata": {},
     "output_type": "execute_result"
    }
   ],
   "source": [
    "df1 = pd.read_csv(\"backend/data/raw/eng_to_bng.csv\", encoding='utf-8') \n",
    "df1.head()"
   ]
  },
  {
   "cell_type": "code",
   "execution_count": 8,
   "metadata": {
    "execution": {
     "iopub.execute_input": "2025-04-18T17:11:12.091104Z",
     "iopub.status.busy": "2025-04-18T17:11:12.090831Z",
     "iopub.status.idle": "2025-04-18T17:11:12.099937Z",
     "shell.execute_reply": "2025-04-18T17:11:12.099307Z",
     "shell.execute_reply.started": "2025-04-18T17:11:12.091076Z"
    },
    "trusted": true
   },
   "outputs": [
    {
     "data": {
      "text/html": [
       "<div>\n",
       "<style scoped>\n",
       "    .dataframe tbody tr th:only-of-type {\n",
       "        vertical-align: middle;\n",
       "    }\n",
       "\n",
       "    .dataframe tbody tr th {\n",
       "        vertical-align: top;\n",
       "    }\n",
       "\n",
       "    .dataframe thead th {\n",
       "        text-align: right;\n",
       "    }\n",
       "</style>\n",
       "<table border=\"1\" class=\"dataframe\">\n",
       "  <thead>\n",
       "    <tr style=\"text-align: right;\">\n",
       "      <th></th>\n",
       "      <th>en</th>\n",
       "      <th>bn</th>\n",
       "    </tr>\n",
       "  </thead>\n",
       "  <tbody>\n",
       "    <tr>\n",
       "      <th>0</th>\n",
       "      <td>Go.</td>\n",
       "      <td>যান।</td>\n",
       "    </tr>\n",
       "    <tr>\n",
       "      <th>1</th>\n",
       "      <td>Go.</td>\n",
       "      <td>যা।</td>\n",
       "    </tr>\n",
       "    <tr>\n",
       "      <th>2</th>\n",
       "      <td>Run!</td>\n",
       "      <td>পালাও!</td>\n",
       "    </tr>\n",
       "    <tr>\n",
       "      <th>3</th>\n",
       "      <td>Run!</td>\n",
       "      <td>পালান!</td>\n",
       "    </tr>\n",
       "    <tr>\n",
       "      <th>4</th>\n",
       "      <td>Who?</td>\n",
       "      <td>কে?</td>\n",
       "    </tr>\n",
       "  </tbody>\n",
       "</table>\n",
       "</div>"
      ],
      "text/plain": [
       "     en      bn\n",
       "0   Go.    যান।\n",
       "1   Go.     যা।\n",
       "2  Run!  পালাও!\n",
       "3  Run!  পালান!\n",
       "4  Who?     কে?"
      ]
     },
     "execution_count": 8,
     "metadata": {},
     "output_type": "execute_result"
    }
   ],
   "source": [
    "df = pd.concat([df1, df2], ignore_index=True)\n",
    "df.head()"
   ]
  },
  {
   "cell_type": "code",
   "execution_count": 10,
   "metadata": {
    "execution": {
     "iopub.execute_input": "2025-04-18T17:11:16.988310Z",
     "iopub.status.busy": "2025-04-18T17:11:16.988055Z",
     "iopub.status.idle": "2025-04-18T17:11:16.997734Z",
     "shell.execute_reply": "2025-04-18T17:11:16.997084Z",
     "shell.execute_reply.started": "2025-04-18T17:11:16.988291Z"
    },
    "trusted": true
   },
   "outputs": [
    {
     "data": {
      "text/html": [
       "<div>\n",
       "<style scoped>\n",
       "    .dataframe tbody tr th:only-of-type {\n",
       "        vertical-align: middle;\n",
       "    }\n",
       "\n",
       "    .dataframe tbody tr th {\n",
       "        vertical-align: top;\n",
       "    }\n",
       "\n",
       "    .dataframe thead th {\n",
       "        text-align: right;\n",
       "    }\n",
       "</style>\n",
       "<table border=\"1\" class=\"dataframe\">\n",
       "  <thead>\n",
       "    <tr style=\"text-align: right;\">\n",
       "      <th></th>\n",
       "      <th>en</th>\n",
       "      <th>bn</th>\n",
       "    </tr>\n",
       "  </thead>\n",
       "  <tbody>\n",
       "    <tr>\n",
       "      <th>0</th>\n",
       "      <td>Go.</td>\n",
       "      <td>যান।</td>\n",
       "    </tr>\n",
       "    <tr>\n",
       "      <th>1</th>\n",
       "      <td>Go.</td>\n",
       "      <td>যা।</td>\n",
       "    </tr>\n",
       "    <tr>\n",
       "      <th>2</th>\n",
       "      <td>Run!</td>\n",
       "      <td>পালাও!</td>\n",
       "    </tr>\n",
       "    <tr>\n",
       "      <th>3</th>\n",
       "      <td>Run!</td>\n",
       "      <td>পালান!</td>\n",
       "    </tr>\n",
       "    <tr>\n",
       "      <th>4</th>\n",
       "      <td>Who?</td>\n",
       "      <td>কে?</td>\n",
       "    </tr>\n",
       "    <tr>\n",
       "      <th>5</th>\n",
       "      <td>Fire!</td>\n",
       "      <td>আগুন!</td>\n",
       "    </tr>\n",
       "    <tr>\n",
       "      <th>6</th>\n",
       "      <td>Help!</td>\n",
       "      <td>বাঁচাও!</td>\n",
       "    </tr>\n",
       "    <tr>\n",
       "      <th>7</th>\n",
       "      <td>Help!</td>\n",
       "      <td>বাঁচান!</td>\n",
       "    </tr>\n",
       "    <tr>\n",
       "      <th>8</th>\n",
       "      <td>Stop!</td>\n",
       "      <td>থামুন!</td>\n",
       "    </tr>\n",
       "    <tr>\n",
       "      <th>9</th>\n",
       "      <td>Stop!</td>\n",
       "      <td>থামো!</td>\n",
       "    </tr>\n",
       "    <tr>\n",
       "      <th>10</th>\n",
       "      <td>Stop!</td>\n",
       "      <td>থাম!</td>\n",
       "    </tr>\n",
       "    <tr>\n",
       "      <th>11</th>\n",
       "      <td>Hello!</td>\n",
       "      <td>নমস্কার!</td>\n",
       "    </tr>\n",
       "    <tr>\n",
       "      <th>12</th>\n",
       "      <td>I see.</td>\n",
       "      <td>বুঝলাম।</td>\n",
       "    </tr>\n",
       "    <tr>\n",
       "      <th>13</th>\n",
       "      <td>I try.</td>\n",
       "      <td>আমি চেষ্টা করি।</td>\n",
       "    </tr>\n",
       "    <tr>\n",
       "      <th>14</th>\n",
       "      <td>Smile.</td>\n",
       "      <td>একটু হাসুন।</td>\n",
       "    </tr>\n",
       "    <tr>\n",
       "      <th>15</th>\n",
       "      <td>Smile.</td>\n",
       "      <td>একটু হাসো।</td>\n",
       "    </tr>\n",
       "    <tr>\n",
       "      <th>16</th>\n",
       "      <td>Attack!</td>\n",
       "      <td>আক্রমণ!</td>\n",
       "    </tr>\n",
       "    <tr>\n",
       "      <th>17</th>\n",
       "      <td>Get up.</td>\n",
       "      <td>ওঠো।</td>\n",
       "    </tr>\n",
       "    <tr>\n",
       "      <th>18</th>\n",
       "      <td>Get up.</td>\n",
       "      <td>উঠুন।</td>\n",
       "    </tr>\n",
       "    <tr>\n",
       "      <th>19</th>\n",
       "      <td>Got it!</td>\n",
       "      <td>বুঝে গেছি!</td>\n",
       "    </tr>\n",
       "    <tr>\n",
       "      <th>20</th>\n",
       "      <td>Got it!</td>\n",
       "      <td>ধরেছি!</td>\n",
       "    </tr>\n",
       "    <tr>\n",
       "      <th>21</th>\n",
       "      <td>Got it?</td>\n",
       "      <td>বুঝেছো?</td>\n",
       "    </tr>\n",
       "    <tr>\n",
       "      <th>22</th>\n",
       "      <td>Got it?</td>\n",
       "      <td>বুঝেছেন?</td>\n",
       "    </tr>\n",
       "    <tr>\n",
       "      <th>23</th>\n",
       "      <td>Got it?</td>\n",
       "      <td>বুঝেছিস?</td>\n",
       "    </tr>\n",
       "    <tr>\n",
       "      <th>24</th>\n",
       "      <td>I know.</td>\n",
       "      <td>আমি জানি।</td>\n",
       "    </tr>\n",
       "    <tr>\n",
       "      <th>25</th>\n",
       "      <td>I know.</td>\n",
       "      <td>আমার জানা আছে।</td>\n",
       "    </tr>\n",
       "    <tr>\n",
       "      <th>26</th>\n",
       "      <td>I lost.</td>\n",
       "      <td>আমি হেরে গেছি।</td>\n",
       "    </tr>\n",
       "    <tr>\n",
       "      <th>27</th>\n",
       "      <td>I'm 19.</td>\n",
       "      <td>আমার ১৯ বছর বয়স।</td>\n",
       "    </tr>\n",
       "    <tr>\n",
       "      <th>28</th>\n",
       "      <td>I'm OK.</td>\n",
       "      <td>আমি ঠিক আছি।</td>\n",
       "    </tr>\n",
       "    <tr>\n",
       "      <th>29</th>\n",
       "      <td>Listen.</td>\n",
       "      <td>শোন।</td>\n",
       "    </tr>\n",
       "    <tr>\n",
       "      <th>30</th>\n",
       "      <td>Listen.</td>\n",
       "      <td>শুনুন।</td>\n",
       "    </tr>\n",
       "    <tr>\n",
       "      <th>31</th>\n",
       "      <td>No way!</td>\n",
       "      <td>কোন মতেই না!</td>\n",
       "    </tr>\n",
       "    <tr>\n",
       "      <th>32</th>\n",
       "      <td>Really?</td>\n",
       "      <td>সত্যি?</td>\n",
       "    </tr>\n",
       "    <tr>\n",
       "      <th>33</th>\n",
       "      <td>Really?</td>\n",
       "      <td>তাই নাক?</td>\n",
       "    </tr>\n",
       "    <tr>\n",
       "      <th>34</th>\n",
       "      <td>Thanks.</td>\n",
       "      <td>ধন্যবাদ।</td>\n",
       "    </tr>\n",
       "    <tr>\n",
       "      <th>35</th>\n",
       "      <td>Try it.</td>\n",
       "      <td>চেখে দেখুন।</td>\n",
       "    </tr>\n",
       "    <tr>\n",
       "      <th>36</th>\n",
       "      <td>Try it.</td>\n",
       "      <td>চেখে দেখো।</td>\n",
       "    </tr>\n",
       "    <tr>\n",
       "      <th>37</th>\n",
       "      <td>We won.</td>\n",
       "      <td>আমরা জিতে গেছে।</td>\n",
       "    </tr>\n",
       "    <tr>\n",
       "      <th>38</th>\n",
       "      <td>Why me?</td>\n",
       "      <td>আমিই কেন?</td>\n",
       "    </tr>\n",
       "    <tr>\n",
       "      <th>39</th>\n",
       "      <td>Ask Tom.</td>\n",
       "      <td>টমকে জিজ্ঞাসা করো।</td>\n",
       "    </tr>\n",
       "    <tr>\n",
       "      <th>40</th>\n",
       "      <td>Ask Tom.</td>\n",
       "      <td>টমকে জিজ্ঞাসা করুন।</td>\n",
       "    </tr>\n",
       "    <tr>\n",
       "      <th>41</th>\n",
       "      <td>Ask Tom.</td>\n",
       "      <td>টমকে জিজ্ঞাসা কর।</td>\n",
       "    </tr>\n",
       "    <tr>\n",
       "      <th>42</th>\n",
       "      <td>Call me.</td>\n",
       "      <td>আমাকে ডেক।</td>\n",
       "    </tr>\n",
       "    <tr>\n",
       "      <th>43</th>\n",
       "      <td>Call me.</td>\n",
       "      <td>আমাকে ডাকবেন।</td>\n",
       "    </tr>\n",
       "    <tr>\n",
       "      <th>44</th>\n",
       "      <td>Call me.</td>\n",
       "      <td>আমাকে ডাকিস।</td>\n",
       "    </tr>\n",
       "    <tr>\n",
       "      <th>45</th>\n",
       "      <td>Call us.</td>\n",
       "      <td>আমাদের ডেকো।</td>\n",
       "    </tr>\n",
       "    <tr>\n",
       "      <th>46</th>\n",
       "      <td>Call us.</td>\n",
       "      <td>আমাদের ডাকিস।</td>\n",
       "    </tr>\n",
       "    <tr>\n",
       "      <th>47</th>\n",
       "      <td>Call us.</td>\n",
       "      <td>আমাদের ডাকবেন।</td>\n",
       "    </tr>\n",
       "    <tr>\n",
       "      <th>48</th>\n",
       "      <td>Come in.</td>\n",
       "      <td>ভেতরে আসুন।</td>\n",
       "    </tr>\n",
       "    <tr>\n",
       "      <th>49</th>\n",
       "      <td>Come in.</td>\n",
       "      <td>ভেতরে আসো।</td>\n",
       "    </tr>\n",
       "  </tbody>\n",
       "</table>\n",
       "</div>"
      ],
      "text/plain": [
       "          en                   bn\n",
       "0        Go.                 যান।\n",
       "1        Go.                  যা।\n",
       "2       Run!               পালাও!\n",
       "3       Run!               পালান!\n",
       "4       Who?                  কে?\n",
       "5      Fire!                আগুন!\n",
       "6      Help!              বাঁচাও!\n",
       "7      Help!              বাঁচান!\n",
       "8      Stop!               থামুন!\n",
       "9      Stop!                থামো!\n",
       "10     Stop!                 থাম!\n",
       "11    Hello!             নমস্কার!\n",
       "12    I see.              বুঝলাম।\n",
       "13    I try.      আমি চেষ্টা করি।\n",
       "14    Smile.          একটু হাসুন।\n",
       "15    Smile.           একটু হাসো।\n",
       "16   Attack!              আক্রমণ!\n",
       "17   Get up.                 ওঠো।\n",
       "18   Get up.                উঠুন।\n",
       "19   Got it!           বুঝে গেছি!\n",
       "20   Got it!               ধরেছি!\n",
       "21   Got it?              বুঝেছো?\n",
       "22   Got it?             বুঝেছেন?\n",
       "23   Got it?             বুঝেছিস?\n",
       "24   I know.            আমি জানি।\n",
       "25   I know.       আমার জানা আছে।\n",
       "26   I lost.       আমি হেরে গেছি।\n",
       "27   I'm 19.    আমার ১৯ বছর বয়স।\n",
       "28   I'm OK.         আমি ঠিক আছি।\n",
       "29   Listen.                 শোন।\n",
       "30   Listen.               শুনুন।\n",
       "31   No way!         কোন মতেই না!\n",
       "32   Really?               সত্যি?\n",
       "33   Really?             তাই নাক?\n",
       "34   Thanks.             ধন্যবাদ।\n",
       "35   Try it.          চেখে দেখুন।\n",
       "36   Try it.           চেখে দেখো।\n",
       "37   We won.      আমরা জিতে গেছে।\n",
       "38   Why me?            আমিই কেন?\n",
       "39  Ask Tom.   টমকে জিজ্ঞাসা করো।\n",
       "40  Ask Tom.  টমকে জিজ্ঞাসা করুন।\n",
       "41  Ask Tom.    টমকে জিজ্ঞাসা কর।\n",
       "42  Call me.           আমাকে ডেক।\n",
       "43  Call me.        আমাকে ডাকবেন।\n",
       "44  Call me.         আমাকে ডাকিস।\n",
       "45  Call us.         আমাদের ডেকো।\n",
       "46  Call us.        আমাদের ডাকিস।\n",
       "47  Call us.       আমাদের ডাকবেন।\n",
       "48  Come in.          ভেতরে আসুন।\n",
       "49  Come in.           ভেতরে আসো।"
      ]
     },
     "execution_count": 10,
     "metadata": {},
     "output_type": "execute_result"
    }
   ],
   "source": [
    "df[:50]"
   ]
  },
  {
   "cell_type": "code",
   "execution_count": 11,
   "metadata": {},
   "outputs": [],
   "source": [
    "def contractions_func(v : str) -> str:\n",
    "    return contractions.fix(v)"
   ]
  },
  {
   "cell_type": "code",
   "execution_count": 12,
   "metadata": {},
   "outputs": [],
   "source": [
    "df[\"en\"] = df[\"en\"].apply(contractions_func)"
   ]
  },
  {
   "cell_type": "code",
   "execution_count": 13,
   "metadata": {},
   "outputs": [
    {
     "data": {
      "text/html": [
       "<div>\n",
       "<style scoped>\n",
       "    .dataframe tbody tr th:only-of-type {\n",
       "        vertical-align: middle;\n",
       "    }\n",
       "\n",
       "    .dataframe tbody tr th {\n",
       "        vertical-align: top;\n",
       "    }\n",
       "\n",
       "    .dataframe thead th {\n",
       "        text-align: right;\n",
       "    }\n",
       "</style>\n",
       "<table border=\"1\" class=\"dataframe\">\n",
       "  <thead>\n",
       "    <tr style=\"text-align: right;\">\n",
       "      <th></th>\n",
       "      <th>en</th>\n",
       "      <th>bn</th>\n",
       "    </tr>\n",
       "  </thead>\n",
       "  <tbody>\n",
       "    <tr>\n",
       "      <th>0</th>\n",
       "      <td>Go.</td>\n",
       "      <td>যান।</td>\n",
       "    </tr>\n",
       "    <tr>\n",
       "      <th>1</th>\n",
       "      <td>Go.</td>\n",
       "      <td>যা।</td>\n",
       "    </tr>\n",
       "    <tr>\n",
       "      <th>2</th>\n",
       "      <td>Run!</td>\n",
       "      <td>পালাও!</td>\n",
       "    </tr>\n",
       "    <tr>\n",
       "      <th>3</th>\n",
       "      <td>Run!</td>\n",
       "      <td>পালান!</td>\n",
       "    </tr>\n",
       "    <tr>\n",
       "      <th>4</th>\n",
       "      <td>Who?</td>\n",
       "      <td>কে?</td>\n",
       "    </tr>\n",
       "    <tr>\n",
       "      <th>5</th>\n",
       "      <td>Fire!</td>\n",
       "      <td>আগুন!</td>\n",
       "    </tr>\n",
       "    <tr>\n",
       "      <th>6</th>\n",
       "      <td>Help!</td>\n",
       "      <td>বাঁচাও!</td>\n",
       "    </tr>\n",
       "    <tr>\n",
       "      <th>7</th>\n",
       "      <td>Help!</td>\n",
       "      <td>বাঁচান!</td>\n",
       "    </tr>\n",
       "    <tr>\n",
       "      <th>8</th>\n",
       "      <td>Stop!</td>\n",
       "      <td>থামুন!</td>\n",
       "    </tr>\n",
       "    <tr>\n",
       "      <th>9</th>\n",
       "      <td>Stop!</td>\n",
       "      <td>থামো!</td>\n",
       "    </tr>\n",
       "    <tr>\n",
       "      <th>10</th>\n",
       "      <td>Stop!</td>\n",
       "      <td>থাম!</td>\n",
       "    </tr>\n",
       "    <tr>\n",
       "      <th>11</th>\n",
       "      <td>Hello!</td>\n",
       "      <td>নমস্কার!</td>\n",
       "    </tr>\n",
       "    <tr>\n",
       "      <th>12</th>\n",
       "      <td>I see.</td>\n",
       "      <td>বুঝলাম।</td>\n",
       "    </tr>\n",
       "    <tr>\n",
       "      <th>13</th>\n",
       "      <td>I try.</td>\n",
       "      <td>আমি চেষ্টা করি।</td>\n",
       "    </tr>\n",
       "    <tr>\n",
       "      <th>14</th>\n",
       "      <td>Smile.</td>\n",
       "      <td>একটু হাসুন।</td>\n",
       "    </tr>\n",
       "    <tr>\n",
       "      <th>15</th>\n",
       "      <td>Smile.</td>\n",
       "      <td>একটু হাসো।</td>\n",
       "    </tr>\n",
       "    <tr>\n",
       "      <th>16</th>\n",
       "      <td>Attack!</td>\n",
       "      <td>আক্রমণ!</td>\n",
       "    </tr>\n",
       "    <tr>\n",
       "      <th>17</th>\n",
       "      <td>Get up.</td>\n",
       "      <td>ওঠো।</td>\n",
       "    </tr>\n",
       "    <tr>\n",
       "      <th>18</th>\n",
       "      <td>Get up.</td>\n",
       "      <td>উঠুন।</td>\n",
       "    </tr>\n",
       "    <tr>\n",
       "      <th>19</th>\n",
       "      <td>Got it!</td>\n",
       "      <td>বুঝে গেছি!</td>\n",
       "    </tr>\n",
       "    <tr>\n",
       "      <th>20</th>\n",
       "      <td>Got it!</td>\n",
       "      <td>ধরেছি!</td>\n",
       "    </tr>\n",
       "    <tr>\n",
       "      <th>21</th>\n",
       "      <td>Got it?</td>\n",
       "      <td>বুঝেছো?</td>\n",
       "    </tr>\n",
       "    <tr>\n",
       "      <th>22</th>\n",
       "      <td>Got it?</td>\n",
       "      <td>বুঝেছেন?</td>\n",
       "    </tr>\n",
       "    <tr>\n",
       "      <th>23</th>\n",
       "      <td>Got it?</td>\n",
       "      <td>বুঝেছিস?</td>\n",
       "    </tr>\n",
       "    <tr>\n",
       "      <th>24</th>\n",
       "      <td>I know.</td>\n",
       "      <td>আমি জানি।</td>\n",
       "    </tr>\n",
       "    <tr>\n",
       "      <th>25</th>\n",
       "      <td>I know.</td>\n",
       "      <td>আমার জানা আছে।</td>\n",
       "    </tr>\n",
       "    <tr>\n",
       "      <th>26</th>\n",
       "      <td>I lost.</td>\n",
       "      <td>আমি হেরে গেছি।</td>\n",
       "    </tr>\n",
       "    <tr>\n",
       "      <th>27</th>\n",
       "      <td>I am 19.</td>\n",
       "      <td>আমার ১৯ বছর বয়স।</td>\n",
       "    </tr>\n",
       "    <tr>\n",
       "      <th>28</th>\n",
       "      <td>I am OK.</td>\n",
       "      <td>আমি ঠিক আছি।</td>\n",
       "    </tr>\n",
       "    <tr>\n",
       "      <th>29</th>\n",
       "      <td>Listen.</td>\n",
       "      <td>শোন।</td>\n",
       "    </tr>\n",
       "    <tr>\n",
       "      <th>30</th>\n",
       "      <td>Listen.</td>\n",
       "      <td>শুনুন।</td>\n",
       "    </tr>\n",
       "    <tr>\n",
       "      <th>31</th>\n",
       "      <td>No way!</td>\n",
       "      <td>কোন মতেই না!</td>\n",
       "    </tr>\n",
       "    <tr>\n",
       "      <th>32</th>\n",
       "      <td>Really?</td>\n",
       "      <td>সত্যি?</td>\n",
       "    </tr>\n",
       "    <tr>\n",
       "      <th>33</th>\n",
       "      <td>Really?</td>\n",
       "      <td>তাই নাক?</td>\n",
       "    </tr>\n",
       "    <tr>\n",
       "      <th>34</th>\n",
       "      <td>Thanks.</td>\n",
       "      <td>ধন্যবাদ।</td>\n",
       "    </tr>\n",
       "    <tr>\n",
       "      <th>35</th>\n",
       "      <td>Try it.</td>\n",
       "      <td>চেখে দেখুন।</td>\n",
       "    </tr>\n",
       "    <tr>\n",
       "      <th>36</th>\n",
       "      <td>Try it.</td>\n",
       "      <td>চেখে দেখো।</td>\n",
       "    </tr>\n",
       "    <tr>\n",
       "      <th>37</th>\n",
       "      <td>We won.</td>\n",
       "      <td>আমরা জিতে গেছে।</td>\n",
       "    </tr>\n",
       "    <tr>\n",
       "      <th>38</th>\n",
       "      <td>Why me?</td>\n",
       "      <td>আমিই কেন?</td>\n",
       "    </tr>\n",
       "    <tr>\n",
       "      <th>39</th>\n",
       "      <td>Ask Tom.</td>\n",
       "      <td>টমকে জিজ্ঞাসা করো।</td>\n",
       "    </tr>\n",
       "    <tr>\n",
       "      <th>40</th>\n",
       "      <td>Ask Tom.</td>\n",
       "      <td>টমকে জিজ্ঞাসা করুন।</td>\n",
       "    </tr>\n",
       "    <tr>\n",
       "      <th>41</th>\n",
       "      <td>Ask Tom.</td>\n",
       "      <td>টমকে জিজ্ঞাসা কর।</td>\n",
       "    </tr>\n",
       "    <tr>\n",
       "      <th>42</th>\n",
       "      <td>Call me.</td>\n",
       "      <td>আমাকে ডেক।</td>\n",
       "    </tr>\n",
       "    <tr>\n",
       "      <th>43</th>\n",
       "      <td>Call me.</td>\n",
       "      <td>আমাকে ডাকবেন।</td>\n",
       "    </tr>\n",
       "    <tr>\n",
       "      <th>44</th>\n",
       "      <td>Call me.</td>\n",
       "      <td>আমাকে ডাকিস।</td>\n",
       "    </tr>\n",
       "    <tr>\n",
       "      <th>45</th>\n",
       "      <td>Call us.</td>\n",
       "      <td>আমাদের ডেকো।</td>\n",
       "    </tr>\n",
       "    <tr>\n",
       "      <th>46</th>\n",
       "      <td>Call us.</td>\n",
       "      <td>আমাদের ডাকিস।</td>\n",
       "    </tr>\n",
       "    <tr>\n",
       "      <th>47</th>\n",
       "      <td>Call us.</td>\n",
       "      <td>আমাদের ডাকবেন।</td>\n",
       "    </tr>\n",
       "    <tr>\n",
       "      <th>48</th>\n",
       "      <td>Come in.</td>\n",
       "      <td>ভেতরে আসুন।</td>\n",
       "    </tr>\n",
       "    <tr>\n",
       "      <th>49</th>\n",
       "      <td>Come in.</td>\n",
       "      <td>ভেতরে আসো।</td>\n",
       "    </tr>\n",
       "  </tbody>\n",
       "</table>\n",
       "</div>"
      ],
      "text/plain": [
       "          en                   bn\n",
       "0        Go.                 যান।\n",
       "1        Go.                  যা।\n",
       "2       Run!               পালাও!\n",
       "3       Run!               পালান!\n",
       "4       Who?                  কে?\n",
       "5      Fire!                আগুন!\n",
       "6      Help!              বাঁচাও!\n",
       "7      Help!              বাঁচান!\n",
       "8      Stop!               থামুন!\n",
       "9      Stop!                থামো!\n",
       "10     Stop!                 থাম!\n",
       "11    Hello!             নমস্কার!\n",
       "12    I see.              বুঝলাম।\n",
       "13    I try.      আমি চেষ্টা করি।\n",
       "14    Smile.          একটু হাসুন।\n",
       "15    Smile.           একটু হাসো।\n",
       "16   Attack!              আক্রমণ!\n",
       "17   Get up.                 ওঠো।\n",
       "18   Get up.                উঠুন।\n",
       "19   Got it!           বুঝে গেছি!\n",
       "20   Got it!               ধরেছি!\n",
       "21   Got it?              বুঝেছো?\n",
       "22   Got it?             বুঝেছেন?\n",
       "23   Got it?             বুঝেছিস?\n",
       "24   I know.            আমি জানি।\n",
       "25   I know.       আমার জানা আছে।\n",
       "26   I lost.       আমি হেরে গেছি।\n",
       "27  I am 19.    আমার ১৯ বছর বয়স।\n",
       "28  I am OK.         আমি ঠিক আছি।\n",
       "29   Listen.                 শোন।\n",
       "30   Listen.               শুনুন।\n",
       "31   No way!         কোন মতেই না!\n",
       "32   Really?               সত্যি?\n",
       "33   Really?             তাই নাক?\n",
       "34   Thanks.             ধন্যবাদ।\n",
       "35   Try it.          চেখে দেখুন।\n",
       "36   Try it.           চেখে দেখো।\n",
       "37   We won.      আমরা জিতে গেছে।\n",
       "38   Why me?            আমিই কেন?\n",
       "39  Ask Tom.   টমকে জিজ্ঞাসা করো।\n",
       "40  Ask Tom.  টমকে জিজ্ঞাসা করুন।\n",
       "41  Ask Tom.    টমকে জিজ্ঞাসা কর।\n",
       "42  Call me.           আমাকে ডেক।\n",
       "43  Call me.        আমাকে ডাকবেন।\n",
       "44  Call me.         আমাকে ডাকিস।\n",
       "45  Call us.         আমাদের ডেকো।\n",
       "46  Call us.        আমাদের ডাকিস।\n",
       "47  Call us.       আমাদের ডাকবেন।\n",
       "48  Come in.          ভেতরে আসুন।\n",
       "49  Come in.           ভেতরে আসো।"
      ]
     },
     "execution_count": 13,
     "metadata": {},
     "output_type": "execute_result"
    }
   ],
   "source": [
    "df[:50]"
   ]
  },
  {
   "cell_type": "code",
   "execution_count": 14,
   "metadata": {
    "execution": {
     "iopub.execute_input": "2025-04-18T17:11:40.611101Z",
     "iopub.status.busy": "2025-04-18T17:11:40.610512Z",
     "iopub.status.idle": "2025-04-18T17:11:40.783330Z",
     "shell.execute_reply": "2025-04-18T17:11:40.782807Z",
     "shell.execute_reply.started": "2025-04-18T17:11:40.611068Z"
    },
    "trusted": true
   },
   "outputs": [],
   "source": [
    "df['en_word_length'] = df['en'].str.split().str.len()"
   ]
  },
  {
   "cell_type": "code",
   "execution_count": 15,
   "metadata": {
    "execution": {
     "iopub.execute_input": "2025-04-18T17:11:43.590525Z",
     "iopub.status.busy": "2025-04-18T17:11:43.590054Z",
     "iopub.status.idle": "2025-04-18T17:11:43.679447Z",
     "shell.execute_reply": "2025-04-18T17:11:43.678920Z",
     "shell.execute_reply.started": "2025-04-18T17:11:43.590506Z"
    },
    "trusted": true
   },
   "outputs": [],
   "source": [
    "df['bn_word_length'] = df['bn'].str.split().str.len()"
   ]
  },
  {
   "cell_type": "code",
   "execution_count": 16,
   "metadata": {
    "execution": {
     "iopub.execute_input": "2025-04-18T17:11:47.337562Z",
     "iopub.status.busy": "2025-04-18T17:11:47.337322Z",
     "iopub.status.idle": "2025-04-18T17:11:47.348019Z",
     "shell.execute_reply": "2025-04-18T17:11:47.347304Z",
     "shell.execute_reply.started": "2025-04-18T17:11:47.337546Z"
    },
    "trusted": true
   },
   "outputs": [
    {
     "name": "stdout",
     "output_type": "stream",
     "text": [
      "Maximum length of english sentence : 38 \n",
      "Maximum length of bengali sentence : 32\n"
     ]
    }
   ],
   "source": [
    "print(f\"Maximum length of english sentence : {max(df['en_word_length'])} \\nMaximum length of bengali sentence : {max(df['bn_word_length'])}\")"
   ]
  },
  {
   "cell_type": "code",
   "execution_count": 17,
   "metadata": {
    "execution": {
     "iopub.execute_input": "2025-04-18T17:11:50.921252Z",
     "iopub.status.busy": "2025-04-18T17:11:50.920449Z",
     "iopub.status.idle": "2025-04-18T17:11:50.931322Z",
     "shell.execute_reply": "2025-04-18T17:11:50.930659Z",
     "shell.execute_reply.started": "2025-04-18T17:11:50.921221Z"
    },
    "trusted": true
   },
   "outputs": [
    {
     "data": {
      "text/html": [
       "<div>\n",
       "<style scoped>\n",
       "    .dataframe tbody tr th:only-of-type {\n",
       "        vertical-align: middle;\n",
       "    }\n",
       "\n",
       "    .dataframe tbody tr th {\n",
       "        vertical-align: top;\n",
       "    }\n",
       "\n",
       "    .dataframe thead th {\n",
       "        text-align: right;\n",
       "    }\n",
       "</style>\n",
       "<table border=\"1\" class=\"dataframe\">\n",
       "  <thead>\n",
       "    <tr style=\"text-align: right;\">\n",
       "      <th></th>\n",
       "      <th>en</th>\n",
       "      <th>bn</th>\n",
       "      <th>en_word_length</th>\n",
       "      <th>bn_word_length</th>\n",
       "    </tr>\n",
       "  </thead>\n",
       "  <tbody>\n",
       "    <tr>\n",
       "      <th>0</th>\n",
       "      <td>Go.</td>\n",
       "      <td>যান।</td>\n",
       "      <td>1</td>\n",
       "      <td>1</td>\n",
       "    </tr>\n",
       "    <tr>\n",
       "      <th>1</th>\n",
       "      <td>Go.</td>\n",
       "      <td>যা।</td>\n",
       "      <td>1</td>\n",
       "      <td>1</td>\n",
       "    </tr>\n",
       "    <tr>\n",
       "      <th>2</th>\n",
       "      <td>Run!</td>\n",
       "      <td>পালাও!</td>\n",
       "      <td>1</td>\n",
       "      <td>1</td>\n",
       "    </tr>\n",
       "    <tr>\n",
       "      <th>3</th>\n",
       "      <td>Run!</td>\n",
       "      <td>পালান!</td>\n",
       "      <td>1</td>\n",
       "      <td>1</td>\n",
       "    </tr>\n",
       "    <tr>\n",
       "      <th>4</th>\n",
       "      <td>Who?</td>\n",
       "      <td>কে?</td>\n",
       "      <td>1</td>\n",
       "      <td>1</td>\n",
       "    </tr>\n",
       "    <tr>\n",
       "      <th>5</th>\n",
       "      <td>Fire!</td>\n",
       "      <td>আগুন!</td>\n",
       "      <td>1</td>\n",
       "      <td>1</td>\n",
       "    </tr>\n",
       "    <tr>\n",
       "      <th>6</th>\n",
       "      <td>Help!</td>\n",
       "      <td>বাঁচাও!</td>\n",
       "      <td>1</td>\n",
       "      <td>1</td>\n",
       "    </tr>\n",
       "    <tr>\n",
       "      <th>7</th>\n",
       "      <td>Help!</td>\n",
       "      <td>বাঁচান!</td>\n",
       "      <td>1</td>\n",
       "      <td>1</td>\n",
       "    </tr>\n",
       "    <tr>\n",
       "      <th>8</th>\n",
       "      <td>Stop!</td>\n",
       "      <td>থামুন!</td>\n",
       "      <td>1</td>\n",
       "      <td>1</td>\n",
       "    </tr>\n",
       "    <tr>\n",
       "      <th>9</th>\n",
       "      <td>Stop!</td>\n",
       "      <td>থামো!</td>\n",
       "      <td>1</td>\n",
       "      <td>1</td>\n",
       "    </tr>\n",
       "    <tr>\n",
       "      <th>10</th>\n",
       "      <td>Stop!</td>\n",
       "      <td>থাম!</td>\n",
       "      <td>1</td>\n",
       "      <td>1</td>\n",
       "    </tr>\n",
       "    <tr>\n",
       "      <th>11</th>\n",
       "      <td>Hello!</td>\n",
       "      <td>নমস্কার!</td>\n",
       "      <td>1</td>\n",
       "      <td>1</td>\n",
       "    </tr>\n",
       "    <tr>\n",
       "      <th>12</th>\n",
       "      <td>I see.</td>\n",
       "      <td>বুঝলাম।</td>\n",
       "      <td>2</td>\n",
       "      <td>1</td>\n",
       "    </tr>\n",
       "    <tr>\n",
       "      <th>13</th>\n",
       "      <td>I try.</td>\n",
       "      <td>আমি চেষ্টা করি।</td>\n",
       "      <td>2</td>\n",
       "      <td>3</td>\n",
       "    </tr>\n",
       "    <tr>\n",
       "      <th>14</th>\n",
       "      <td>Smile.</td>\n",
       "      <td>একটু হাসুন।</td>\n",
       "      <td>1</td>\n",
       "      <td>2</td>\n",
       "    </tr>\n",
       "    <tr>\n",
       "      <th>15</th>\n",
       "      <td>Smile.</td>\n",
       "      <td>একটু হাসো।</td>\n",
       "      <td>1</td>\n",
       "      <td>2</td>\n",
       "    </tr>\n",
       "    <tr>\n",
       "      <th>16</th>\n",
       "      <td>Attack!</td>\n",
       "      <td>আক্রমণ!</td>\n",
       "      <td>1</td>\n",
       "      <td>1</td>\n",
       "    </tr>\n",
       "    <tr>\n",
       "      <th>17</th>\n",
       "      <td>Get up.</td>\n",
       "      <td>ওঠো।</td>\n",
       "      <td>2</td>\n",
       "      <td>1</td>\n",
       "    </tr>\n",
       "    <tr>\n",
       "      <th>18</th>\n",
       "      <td>Get up.</td>\n",
       "      <td>উঠুন।</td>\n",
       "      <td>2</td>\n",
       "      <td>1</td>\n",
       "    </tr>\n",
       "    <tr>\n",
       "      <th>19</th>\n",
       "      <td>Got it!</td>\n",
       "      <td>বুঝে গেছি!</td>\n",
       "      <td>2</td>\n",
       "      <td>2</td>\n",
       "    </tr>\n",
       "    <tr>\n",
       "      <th>20</th>\n",
       "      <td>Got it!</td>\n",
       "      <td>ধরেছি!</td>\n",
       "      <td>2</td>\n",
       "      <td>1</td>\n",
       "    </tr>\n",
       "    <tr>\n",
       "      <th>21</th>\n",
       "      <td>Got it?</td>\n",
       "      <td>বুঝেছো?</td>\n",
       "      <td>2</td>\n",
       "      <td>1</td>\n",
       "    </tr>\n",
       "    <tr>\n",
       "      <th>22</th>\n",
       "      <td>Got it?</td>\n",
       "      <td>বুঝেছেন?</td>\n",
       "      <td>2</td>\n",
       "      <td>1</td>\n",
       "    </tr>\n",
       "    <tr>\n",
       "      <th>23</th>\n",
       "      <td>Got it?</td>\n",
       "      <td>বুঝেছিস?</td>\n",
       "      <td>2</td>\n",
       "      <td>1</td>\n",
       "    </tr>\n",
       "    <tr>\n",
       "      <th>24</th>\n",
       "      <td>I know.</td>\n",
       "      <td>আমি জানি।</td>\n",
       "      <td>2</td>\n",
       "      <td>2</td>\n",
       "    </tr>\n",
       "    <tr>\n",
       "      <th>25</th>\n",
       "      <td>I know.</td>\n",
       "      <td>আমার জানা আছে।</td>\n",
       "      <td>2</td>\n",
       "      <td>3</td>\n",
       "    </tr>\n",
       "    <tr>\n",
       "      <th>26</th>\n",
       "      <td>I lost.</td>\n",
       "      <td>আমি হেরে গেছি।</td>\n",
       "      <td>2</td>\n",
       "      <td>3</td>\n",
       "    </tr>\n",
       "    <tr>\n",
       "      <th>27</th>\n",
       "      <td>I am 19.</td>\n",
       "      <td>আমার ১৯ বছর বয়স।</td>\n",
       "      <td>3</td>\n",
       "      <td>4</td>\n",
       "    </tr>\n",
       "    <tr>\n",
       "      <th>28</th>\n",
       "      <td>I am OK.</td>\n",
       "      <td>আমি ঠিক আছি।</td>\n",
       "      <td>3</td>\n",
       "      <td>3</td>\n",
       "    </tr>\n",
       "    <tr>\n",
       "      <th>29</th>\n",
       "      <td>Listen.</td>\n",
       "      <td>শোন।</td>\n",
       "      <td>1</td>\n",
       "      <td>1</td>\n",
       "    </tr>\n",
       "    <tr>\n",
       "      <th>30</th>\n",
       "      <td>Listen.</td>\n",
       "      <td>শুনুন।</td>\n",
       "      <td>1</td>\n",
       "      <td>1</td>\n",
       "    </tr>\n",
       "    <tr>\n",
       "      <th>31</th>\n",
       "      <td>No way!</td>\n",
       "      <td>কোন মতেই না!</td>\n",
       "      <td>2</td>\n",
       "      <td>3</td>\n",
       "    </tr>\n",
       "    <tr>\n",
       "      <th>32</th>\n",
       "      <td>Really?</td>\n",
       "      <td>সত্যি?</td>\n",
       "      <td>1</td>\n",
       "      <td>1</td>\n",
       "    </tr>\n",
       "    <tr>\n",
       "      <th>33</th>\n",
       "      <td>Really?</td>\n",
       "      <td>তাই নাক?</td>\n",
       "      <td>1</td>\n",
       "      <td>2</td>\n",
       "    </tr>\n",
       "    <tr>\n",
       "      <th>34</th>\n",
       "      <td>Thanks.</td>\n",
       "      <td>ধন্যবাদ।</td>\n",
       "      <td>1</td>\n",
       "      <td>1</td>\n",
       "    </tr>\n",
       "    <tr>\n",
       "      <th>35</th>\n",
       "      <td>Try it.</td>\n",
       "      <td>চেখে দেখুন।</td>\n",
       "      <td>2</td>\n",
       "      <td>2</td>\n",
       "    </tr>\n",
       "    <tr>\n",
       "      <th>36</th>\n",
       "      <td>Try it.</td>\n",
       "      <td>চেখে দেখো।</td>\n",
       "      <td>2</td>\n",
       "      <td>2</td>\n",
       "    </tr>\n",
       "    <tr>\n",
       "      <th>37</th>\n",
       "      <td>We won.</td>\n",
       "      <td>আমরা জিতে গেছে।</td>\n",
       "      <td>2</td>\n",
       "      <td>3</td>\n",
       "    </tr>\n",
       "    <tr>\n",
       "      <th>38</th>\n",
       "      <td>Why me?</td>\n",
       "      <td>আমিই কেন?</td>\n",
       "      <td>2</td>\n",
       "      <td>2</td>\n",
       "    </tr>\n",
       "    <tr>\n",
       "      <th>39</th>\n",
       "      <td>Ask Tom.</td>\n",
       "      <td>টমকে জিজ্ঞাসা করো।</td>\n",
       "      <td>2</td>\n",
       "      <td>3</td>\n",
       "    </tr>\n",
       "    <tr>\n",
       "      <th>40</th>\n",
       "      <td>Ask Tom.</td>\n",
       "      <td>টমকে জিজ্ঞাসা করুন।</td>\n",
       "      <td>2</td>\n",
       "      <td>3</td>\n",
       "    </tr>\n",
       "    <tr>\n",
       "      <th>41</th>\n",
       "      <td>Ask Tom.</td>\n",
       "      <td>টমকে জিজ্ঞাসা কর।</td>\n",
       "      <td>2</td>\n",
       "      <td>3</td>\n",
       "    </tr>\n",
       "    <tr>\n",
       "      <th>42</th>\n",
       "      <td>Call me.</td>\n",
       "      <td>আমাকে ডেক।</td>\n",
       "      <td>2</td>\n",
       "      <td>2</td>\n",
       "    </tr>\n",
       "    <tr>\n",
       "      <th>43</th>\n",
       "      <td>Call me.</td>\n",
       "      <td>আমাকে ডাকবেন।</td>\n",
       "      <td>2</td>\n",
       "      <td>2</td>\n",
       "    </tr>\n",
       "    <tr>\n",
       "      <th>44</th>\n",
       "      <td>Call me.</td>\n",
       "      <td>আমাকে ডাকিস।</td>\n",
       "      <td>2</td>\n",
       "      <td>2</td>\n",
       "    </tr>\n",
       "    <tr>\n",
       "      <th>45</th>\n",
       "      <td>Call us.</td>\n",
       "      <td>আমাদের ডেকো।</td>\n",
       "      <td>2</td>\n",
       "      <td>2</td>\n",
       "    </tr>\n",
       "    <tr>\n",
       "      <th>46</th>\n",
       "      <td>Call us.</td>\n",
       "      <td>আমাদের ডাকিস।</td>\n",
       "      <td>2</td>\n",
       "      <td>2</td>\n",
       "    </tr>\n",
       "    <tr>\n",
       "      <th>47</th>\n",
       "      <td>Call us.</td>\n",
       "      <td>আমাদের ডাকবেন।</td>\n",
       "      <td>2</td>\n",
       "      <td>2</td>\n",
       "    </tr>\n",
       "    <tr>\n",
       "      <th>48</th>\n",
       "      <td>Come in.</td>\n",
       "      <td>ভেতরে আসুন।</td>\n",
       "      <td>2</td>\n",
       "      <td>2</td>\n",
       "    </tr>\n",
       "    <tr>\n",
       "      <th>49</th>\n",
       "      <td>Come in.</td>\n",
       "      <td>ভেতরে আসো।</td>\n",
       "      <td>2</td>\n",
       "      <td>2</td>\n",
       "    </tr>\n",
       "  </tbody>\n",
       "</table>\n",
       "</div>"
      ],
      "text/plain": [
       "          en                   bn  en_word_length  bn_word_length\n",
       "0        Go.                 যান।               1               1\n",
       "1        Go.                  যা।               1               1\n",
       "2       Run!               পালাও!               1               1\n",
       "3       Run!               পালান!               1               1\n",
       "4       Who?                  কে?               1               1\n",
       "5      Fire!                আগুন!               1               1\n",
       "6      Help!              বাঁচাও!               1               1\n",
       "7      Help!              বাঁচান!               1               1\n",
       "8      Stop!               থামুন!               1               1\n",
       "9      Stop!                থামো!               1               1\n",
       "10     Stop!                 থাম!               1               1\n",
       "11    Hello!             নমস্কার!               1               1\n",
       "12    I see.              বুঝলাম।               2               1\n",
       "13    I try.      আমি চেষ্টা করি।               2               3\n",
       "14    Smile.          একটু হাসুন।               1               2\n",
       "15    Smile.           একটু হাসো।               1               2\n",
       "16   Attack!              আক্রমণ!               1               1\n",
       "17   Get up.                 ওঠো।               2               1\n",
       "18   Get up.                উঠুন।               2               1\n",
       "19   Got it!           বুঝে গেছি!               2               2\n",
       "20   Got it!               ধরেছি!               2               1\n",
       "21   Got it?              বুঝেছো?               2               1\n",
       "22   Got it?             বুঝেছেন?               2               1\n",
       "23   Got it?             বুঝেছিস?               2               1\n",
       "24   I know.            আমি জানি।               2               2\n",
       "25   I know.       আমার জানা আছে।               2               3\n",
       "26   I lost.       আমি হেরে গেছি।               2               3\n",
       "27  I am 19.    আমার ১৯ বছর বয়স।               3               4\n",
       "28  I am OK.         আমি ঠিক আছি।               3               3\n",
       "29   Listen.                 শোন।               1               1\n",
       "30   Listen.               শুনুন।               1               1\n",
       "31   No way!         কোন মতেই না!               2               3\n",
       "32   Really?               সত্যি?               1               1\n",
       "33   Really?             তাই নাক?               1               2\n",
       "34   Thanks.             ধন্যবাদ।               1               1\n",
       "35   Try it.          চেখে দেখুন।               2               2\n",
       "36   Try it.           চেখে দেখো।               2               2\n",
       "37   We won.      আমরা জিতে গেছে।               2               3\n",
       "38   Why me?            আমিই কেন?               2               2\n",
       "39  Ask Tom.   টমকে জিজ্ঞাসা করো।               2               3\n",
       "40  Ask Tom.  টমকে জিজ্ঞাসা করুন।               2               3\n",
       "41  Ask Tom.    টমকে জিজ্ঞাসা কর।               2               3\n",
       "42  Call me.           আমাকে ডেক।               2               2\n",
       "43  Call me.        আমাকে ডাকবেন।               2               2\n",
       "44  Call me.         আমাকে ডাকিস।               2               2\n",
       "45  Call us.         আমাদের ডেকো।               2               2\n",
       "46  Call us.        আমাদের ডাকিস।               2               2\n",
       "47  Call us.       আমাদের ডাকবেন।               2               2\n",
       "48  Come in.          ভেতরে আসুন।               2               2\n",
       "49  Come in.           ভেতরে আসো।               2               2"
      ]
     },
     "execution_count": 17,
     "metadata": {},
     "output_type": "execute_result"
    }
   ],
   "source": [
    "df[:50]"
   ]
  },
  {
   "cell_type": "code",
   "execution_count": 18,
   "metadata": {
    "execution": {
     "iopub.execute_input": "2025-04-18T17:11:56.604664Z",
     "iopub.status.busy": "2025-04-18T17:11:56.604210Z",
     "iopub.status.idle": "2025-04-18T17:11:56.608397Z",
     "shell.execute_reply": "2025-04-18T17:11:56.607696Z",
     "shell.execute_reply.started": "2025-04-18T17:11:56.604644Z"
    },
    "trusted": true
   },
   "outputs": [
    {
     "name": "stdout",
     "output_type": "stream",
     "text": [
      "The number of sentences is : 43396\n"
     ]
    }
   ],
   "source": [
    "print(f\"The number of sentences is : {len(df)}\")"
   ]
  },
  {
   "cell_type": "code",
   "execution_count": 19,
   "metadata": {
    "execution": {
     "iopub.execute_input": "2025-04-18T17:12:00.156985Z",
     "iopub.status.busy": "2025-04-18T17:12:00.156708Z",
     "iopub.status.idle": "2025-04-18T17:12:00.172709Z",
     "shell.execute_reply": "2025-04-18T17:12:00.172126Z",
     "shell.execute_reply.started": "2025-04-18T17:12:00.156967Z"
    },
    "trusted": true
   },
   "outputs": [],
   "source": [
    "df = df[~((df[\"en_word_length\"] > 26) | (df[\"bn_word_length\"] > 26))]\n",
    "df = df.reset_index(drop=True)"
   ]
  },
  {
   "cell_type": "code",
   "execution_count": 20,
   "metadata": {
    "execution": {
     "iopub.execute_input": "2025-04-18T17:12:04.164999Z",
     "iopub.status.busy": "2025-04-18T17:12:04.164740Z",
     "iopub.status.idle": "2025-04-18T17:12:04.169252Z",
     "shell.execute_reply": "2025-04-18T17:12:04.168578Z",
     "shell.execute_reply.started": "2025-04-18T17:12:04.164980Z"
    },
    "trusted": true
   },
   "outputs": [
    {
     "name": "stdout",
     "output_type": "stream",
     "text": [
      "The number of sentences which has less than 27 is 43297\n"
     ]
    }
   ],
   "source": [
    "print(f\"The number of sentences which has less than 27 is {len(df)}\")"
   ]
  },
  {
   "cell_type": "code",
   "execution_count": 21,
   "metadata": {
    "execution": {
     "iopub.execute_input": "2025-04-18T17:12:07.234043Z",
     "iopub.status.busy": "2025-04-18T17:12:07.233792Z",
     "iopub.status.idle": "2025-04-18T17:12:07.241196Z",
     "shell.execute_reply": "2025-04-18T17:12:07.240623Z",
     "shell.execute_reply.started": "2025-04-18T17:12:07.234026Z"
    },
    "trusted": true
   },
   "outputs": [
    {
     "data": {
      "text/html": [
       "<div>\n",
       "<style scoped>\n",
       "    .dataframe tbody tr th:only-of-type {\n",
       "        vertical-align: middle;\n",
       "    }\n",
       "\n",
       "    .dataframe tbody tr th {\n",
       "        vertical-align: top;\n",
       "    }\n",
       "\n",
       "    .dataframe thead th {\n",
       "        text-align: right;\n",
       "    }\n",
       "</style>\n",
       "<table border=\"1\" class=\"dataframe\">\n",
       "  <thead>\n",
       "    <tr style=\"text-align: right;\">\n",
       "      <th></th>\n",
       "      <th>en</th>\n",
       "      <th>bn</th>\n",
       "      <th>en_word_length</th>\n",
       "      <th>bn_word_length</th>\n",
       "    </tr>\n",
       "  </thead>\n",
       "  <tbody>\n",
       "    <tr>\n",
       "      <th>0</th>\n",
       "      <td>Go.</td>\n",
       "      <td>যান।</td>\n",
       "      <td>1</td>\n",
       "      <td>1</td>\n",
       "    </tr>\n",
       "    <tr>\n",
       "      <th>1</th>\n",
       "      <td>Go.</td>\n",
       "      <td>যা।</td>\n",
       "      <td>1</td>\n",
       "      <td>1</td>\n",
       "    </tr>\n",
       "    <tr>\n",
       "      <th>2</th>\n",
       "      <td>Run!</td>\n",
       "      <td>পালাও!</td>\n",
       "      <td>1</td>\n",
       "      <td>1</td>\n",
       "    </tr>\n",
       "    <tr>\n",
       "      <th>3</th>\n",
       "      <td>Run!</td>\n",
       "      <td>পালান!</td>\n",
       "      <td>1</td>\n",
       "      <td>1</td>\n",
       "    </tr>\n",
       "    <tr>\n",
       "      <th>4</th>\n",
       "      <td>Who?</td>\n",
       "      <td>কে?</td>\n",
       "      <td>1</td>\n",
       "      <td>1</td>\n",
       "    </tr>\n",
       "  </tbody>\n",
       "</table>\n",
       "</div>"
      ],
      "text/plain": [
       "     en      bn  en_word_length  bn_word_length\n",
       "0   Go.    যান।               1               1\n",
       "1   Go.     যা।               1               1\n",
       "2  Run!  পালাও!               1               1\n",
       "3  Run!  পালান!               1               1\n",
       "4  Who?     কে?               1               1"
      ]
     },
     "execution_count": 21,
     "metadata": {},
     "output_type": "execute_result"
    }
   ],
   "source": [
    "df.head()"
   ]
  },
  {
   "cell_type": "code",
   "execution_count": 22,
   "metadata": {
    "execution": {
     "iopub.execute_input": "2025-04-18T17:12:10.851735Z",
     "iopub.status.busy": "2025-04-18T17:12:10.850846Z",
     "iopub.status.idle": "2025-04-18T17:12:10.857336Z",
     "shell.execute_reply": "2025-04-18T17:12:10.856480Z",
     "shell.execute_reply.started": "2025-04-18T17:12:10.851702Z"
    },
    "trusted": true
   },
   "outputs": [
    {
     "data": {
      "text/plain": [
       "str"
      ]
     },
     "execution_count": 22,
     "metadata": {},
     "output_type": "execute_result"
    }
   ],
   "source": [
    "type(df[\"en\"][0])"
   ]
  },
  {
   "cell_type": "code",
   "execution_count": 23,
   "metadata": {
    "execution": {
     "iopub.execute_input": "2025-04-18T17:12:13.960449Z",
     "iopub.status.busy": "2025-04-18T17:12:13.959779Z",
     "iopub.status.idle": "2025-04-18T17:12:13.965330Z",
     "shell.execute_reply": "2025-04-18T17:12:13.964551Z",
     "shell.execute_reply.started": "2025-04-18T17:12:13.960416Z"
    },
    "trusted": true
   },
   "outputs": [
    {
     "data": {
      "text/plain": [
       "str"
      ]
     },
     "execution_count": 23,
     "metadata": {},
     "output_type": "execute_result"
    }
   ],
   "source": [
    "type(df[\"bn\"][0])"
   ]
  },
  {
   "cell_type": "code",
   "execution_count": 24,
   "metadata": {
    "execution": {
     "iopub.execute_input": "2025-04-18T17:12:16.861003Z",
     "iopub.status.busy": "2025-04-18T17:12:16.860744Z",
     "iopub.status.idle": "2025-04-18T17:12:16.865927Z",
     "shell.execute_reply": "2025-04-18T17:12:16.865071Z",
     "shell.execute_reply.started": "2025-04-18T17:12:16.860984Z"
    },
    "trusted": true
   },
   "outputs": [
    {
     "data": {
      "text/plain": [
       "'go.'"
      ]
     },
     "execution_count": 24,
     "metadata": {},
     "output_type": "execute_result"
    }
   ],
   "source": [
    "df[\"en\"][0].lower()"
   ]
  },
  {
   "cell_type": "code",
   "execution_count": 25,
   "metadata": {
    "execution": {
     "iopub.execute_input": "2025-04-18T17:12:19.981225Z",
     "iopub.status.busy": "2025-04-18T17:12:19.980602Z",
     "iopub.status.idle": "2025-04-18T17:12:19.985825Z",
     "shell.execute_reply": "2025-04-18T17:12:19.985128Z",
     "shell.execute_reply.started": "2025-04-18T17:12:19.981206Z"
    },
    "trusted": true
   },
   "outputs": [
    {
     "data": {
      "text/plain": [
       "'যান।'"
      ]
     },
     "execution_count": 25,
     "metadata": {},
     "output_type": "execute_result"
    }
   ],
   "source": [
    "df[\"bn\"][0].lower()"
   ]
  },
  {
   "cell_type": "code",
   "execution_count": 26,
   "metadata": {
    "execution": {
     "iopub.execute_input": "2025-04-18T17:12:23.178909Z",
     "iopub.status.busy": "2025-04-18T17:12:23.178610Z",
     "iopub.status.idle": "2025-04-18T17:12:23.186450Z",
     "shell.execute_reply": "2025-04-18T17:12:23.185857Z",
     "shell.execute_reply.started": "2025-04-18T17:12:23.178889Z"
    },
    "trusted": true
   },
   "outputs": [
    {
     "data": {
      "text/html": [
       "<div>\n",
       "<style scoped>\n",
       "    .dataframe tbody tr th:only-of-type {\n",
       "        vertical-align: middle;\n",
       "    }\n",
       "\n",
       "    .dataframe tbody tr th {\n",
       "        vertical-align: top;\n",
       "    }\n",
       "\n",
       "    .dataframe thead th {\n",
       "        text-align: right;\n",
       "    }\n",
       "</style>\n",
       "<table border=\"1\" class=\"dataframe\">\n",
       "  <thead>\n",
       "    <tr style=\"text-align: right;\">\n",
       "      <th></th>\n",
       "      <th>en</th>\n",
       "      <th>bn</th>\n",
       "      <th>en_word_length</th>\n",
       "      <th>bn_word_length</th>\n",
       "    </tr>\n",
       "  </thead>\n",
       "  <tbody>\n",
       "    <tr>\n",
       "      <th>43292</th>\n",
       "      <td>a man in a pink shirt climbs a rock face</td>\n",
       "      <td>গোলাপী শার্টের একটি লোক একটি শিলার উপরে উঠেছিল</td>\n",
       "      <td>10</td>\n",
       "      <td>8</td>\n",
       "    </tr>\n",
       "    <tr>\n",
       "      <th>43293</th>\n",
       "      <td>a man is rock climbing high in the air .</td>\n",
       "      <td>একজন মানুষ পাথরে চড়ছে অনেক উপরে</td>\n",
       "      <td>10</td>\n",
       "      <td>6</td>\n",
       "    </tr>\n",
       "    <tr>\n",
       "      <th>43294</th>\n",
       "      <td>a person in a red shirt climbing up a rock fac...</td>\n",
       "      <td>লাল শার্টের একজন ব্যক্তি সহায়তার হাতলগুলিতে ঢ...</td>\n",
       "      <td>16</td>\n",
       "      <td>12</td>\n",
       "    </tr>\n",
       "    <tr>\n",
       "      <th>43295</th>\n",
       "      <td>a rock climber in a red shirt .</td>\n",
       "      <td>লাল শার্টে একটি রক আরোহী</td>\n",
       "      <td>8</td>\n",
       "      <td>5</td>\n",
       "    </tr>\n",
       "    <tr>\n",
       "      <th>43296</th>\n",
       "      <td>a rock climber practices on a rock climbing wa...</td>\n",
       "      <td>একটি রক আরোহী একটি শৈল আরোহণ প্রাচীর এর উপর অন...</td>\n",
       "      <td>10</td>\n",
       "      <td>11</td>\n",
       "    </tr>\n",
       "  </tbody>\n",
       "</table>\n",
       "</div>"
      ],
      "text/plain": [
       "                                                      en  \\\n",
       "43292           a man in a pink shirt climbs a rock face   \n",
       "43293           a man is rock climbing high in the air .   \n",
       "43294  a person in a red shirt climbing up a rock fac...   \n",
       "43295                    a rock climber in a red shirt .   \n",
       "43296  a rock climber practices on a rock climbing wa...   \n",
       "\n",
       "                                                      bn  en_word_length  \\\n",
       "43292     গোলাপী শার্টের একটি লোক একটি শিলার উপরে উঠেছিল              10   \n",
       "43293                    একজন মানুষ পাথরে চড়ছে অনেক উপরে              10   \n",
       "43294  লাল শার্টের একজন ব্যক্তি সহায়তার হাতলগুলিতে ঢ...              16   \n",
       "43295                           লাল শার্টে একটি রক আরোহী               8   \n",
       "43296  একটি রক আরোহী একটি শৈল আরোহণ প্রাচীর এর উপর অন...              10   \n",
       "\n",
       "       bn_word_length  \n",
       "43292               8  \n",
       "43293               6  \n",
       "43294              12  \n",
       "43295               5  \n",
       "43296              11  "
      ]
     },
     "execution_count": 26,
     "metadata": {},
     "output_type": "execute_result"
    }
   ],
   "source": [
    "df.tail(5)"
   ]
  },
  {
   "cell_type": "code",
   "execution_count": 27,
   "metadata": {
    "execution": {
     "iopub.execute_input": "2025-04-18T17:12:27.754706Z",
     "iopub.status.busy": "2025-04-18T17:12:27.754430Z",
     "iopub.status.idle": "2025-04-18T17:12:27.759433Z",
     "shell.execute_reply": "2025-04-18T17:12:27.758889Z",
     "shell.execute_reply.started": "2025-04-18T17:12:27.754687Z"
    },
    "trusted": true
   },
   "outputs": [
    {
     "data": {
      "text/plain": [
       "'a rock climber practices on a rock climbing wall .'"
      ]
     },
     "execution_count": 27,
     "metadata": {},
     "output_type": "execute_result"
    }
   ],
   "source": [
    "df[\"en\"][43296]"
   ]
  },
  {
   "cell_type": "code",
   "execution_count": 28,
   "metadata": {
    "execution": {
     "iopub.execute_input": "2025-04-18T17:12:37.955550Z",
     "iopub.status.busy": "2025-04-18T17:12:37.955265Z",
     "iopub.status.idle": "2025-04-18T17:12:37.972090Z",
     "shell.execute_reply": "2025-04-18T17:12:37.971536Z",
     "shell.execute_reply.started": "2025-04-18T17:12:37.955533Z"
    },
    "id": "m7L0n0aKt7oQ",
    "trusted": true
   },
   "outputs": [],
   "source": [
    "SOS_token = 0\n",
    "EOS_token = 1\n",
    "\n",
    "class Lang:\n",
    "    def __init__(self, name):\n",
    "        self.name = name\n",
    "        self.word2index = {}\n",
    "        self.word2count = {}\n",
    "        self.index2word = {0: \"SOS\", 1: \"EOS\"}\n",
    "        self.n_words = 2  # Count SOS and EOS\n",
    "\n",
    "    def addSentence(self, sentence):\n",
    "        for word in sentence.split(' '):\n",
    "            self.addWord(word)\n",
    "\n",
    "    def addWord(self, word):\n",
    "        if word not in self.word2index:\n",
    "            self.word2index[word] = self.n_words\n",
    "            self.word2count[word] = 1\n",
    "            self.index2word[self.n_words] = word\n",
    "            self.n_words += 1\n",
    "        else:\n",
    "            self.word2count[word] += 1\n",
    "\n"
   ]
  },
  {
   "cell_type": "code",
   "execution_count": 102,
   "metadata": {
    "execution": {
     "iopub.execute_input": "2025-04-17T19:53:18.420277Z",
     "iopub.status.busy": "2025-04-17T19:53:18.419460Z",
     "iopub.status.idle": "2025-04-17T19:53:18.426146Z",
     "shell.execute_reply": "2025-04-17T19:53:18.425199Z",
     "shell.execute_reply.started": "2025-04-17T19:53:18.420250Z"
    },
    "id": "CnxsIvVXz84T",
    "trusted": true
   },
   "outputs": [],
   "source": [
    "# Turn a Unicode string to plain ASCII, thanks to\n",
    "# https://stackoverflow.com/a/518232/2809427\n",
    "# def unicodeToAscii(s):\n",
    "#     return ''.join(c for c in unicodedata.normalize('NFD', s) if unicodedata.category(c) != 'Mn')\n",
    "\n",
    "# # Lowercase, trim, and remove non-letter characters\n",
    "# def normalizeString(s):\n",
    "#     s = unicodeToAscii(s.lower().strip())\n",
    "#     s = re.sub(r\"([.!?])\", r\" \\1\", s)\n",
    "#     s = re.sub(r\"[^a-zA-Z!?]+\", r\" \", s)\n",
    "#     return s.strip()\n"
   ]
  },
  {
   "cell_type": "code",
   "execution_count": 29,
   "metadata": {
    "execution": {
     "iopub.execute_input": "2025-04-18T17:12:43.359298Z",
     "iopub.status.busy": "2025-04-18T17:12:43.359034Z",
     "iopub.status.idle": "2025-04-18T17:12:43.363261Z",
     "shell.execute_reply": "2025-04-18T17:12:43.362427Z",
     "shell.execute_reply.started": "2025-04-18T17:12:43.359280Z"
    },
    "trusted": true
   },
   "outputs": [],
   "source": [
    "# def unicodeToAscii(s):\n",
    "#     return ''.join(c for c in unicodedata.normalize('NFD', s) if unicodedata.category(c) != 'Mn')\n",
    "\n",
    "def normalizeString(s):\n",
    "    s = s.lower().strip()\n",
    "    s = s[:-1]\n",
    "    #s = re.sub(r\"([.!?])\", r\" \\1\", s)              # Add space before punctuation\n",
    "    #s = re.sub(r\"[^\\w\\s.!?]\", r\"\", s)              # Remove non-word characters except punctuation\n",
    "    return s.strip()\n"
   ]
  },
  {
   "cell_type": "code",
   "execution_count": 30,
   "metadata": {
    "execution": {
     "iopub.execute_input": "2025-04-18T17:12:48.297591Z",
     "iopub.status.busy": "2025-04-18T17:12:48.297025Z",
     "iopub.status.idle": "2025-04-18T17:12:48.301658Z",
     "shell.execute_reply": "2025-04-18T17:12:48.301021Z",
     "shell.execute_reply.started": "2025-04-18T17:12:48.297570Z"
    },
    "trusted": true
   },
   "outputs": [
    {
     "name": "stdout",
     "output_type": "stream",
     "text": [
      "The actual text is : Run!\n",
      "The processed text is : run\n"
     ]
    }
   ],
   "source": [
    "eng_text = df[\"en\"][2]\n",
    "print(f\"The actual text is : {eng_text}\")\n",
    "processed_eng_text = normalizeString(eng_text)\n",
    "print(f\"The processed text is : {processed_eng_text}\")"
   ]
  },
  {
   "cell_type": "code",
   "execution_count": 31,
   "metadata": {
    "execution": {
     "iopub.execute_input": "2025-04-18T17:12:54.180616Z",
     "iopub.status.busy": "2025-04-18T17:12:54.180390Z",
     "iopub.status.idle": "2025-04-18T17:12:54.184899Z",
     "shell.execute_reply": "2025-04-18T17:12:54.184175Z",
     "shell.execute_reply.started": "2025-04-18T17:12:54.180602Z"
    },
    "trusted": true
   },
   "outputs": [
    {
     "name": "stdout",
     "output_type": "stream",
     "text": [
      "The actual text is : পালাও!\n",
      "The processed text is : পালাও\n"
     ]
    }
   ],
   "source": [
    "bng_text = df[\"bn\"][2]\n",
    "print(f\"The actual text is : {bng_text}\")\n",
    "processed_bng_text = normalizeString(bng_text)\n",
    "print(f\"The processed text is : {processed_bng_text}\")"
   ]
  },
  {
   "cell_type": "code",
   "execution_count": 32,
   "metadata": {
    "execution": {
     "iopub.execute_input": "2025-04-18T17:13:20.943371Z",
     "iopub.status.busy": "2025-04-18T17:13:20.943112Z",
     "iopub.status.idle": "2025-04-18T17:13:20.948606Z",
     "shell.execute_reply": "2025-04-18T17:13:20.947856Z",
     "shell.execute_reply.started": "2025-04-18T17:13:20.943354Z"
    },
    "id": "U6rwd_-50gzG",
    "trusted": true
   },
   "outputs": [],
   "source": [
    "def readLangs(lang1, lang2, df):\n",
    "    print(\"Reading lines...\")\n",
    "\n",
    "    pairs = []\n",
    "    length = len(df)\n",
    "    for i in range(length):\n",
    "        pair = []\n",
    "        bng_text = df[lang1][i]\n",
    "        processed_bng_text = normalizeString(bng_text)\n",
    "        pair.append(processed_bng_text)\n",
    "        eng_text = df[lang2][i]\n",
    "        processed_eng_text = normalizeString(eng_text)\n",
    "        pair.append(processed_eng_text)\n",
    "        pairs.append(pair)\n",
    "\n",
    "    input_lang = Lang(lang1)\n",
    "    output_lang = Lang(lang2)\n",
    "\n",
    "    return input_lang, output_lang, pairs\n"
   ]
  },
  {
   "cell_type": "markdown",
   "metadata": {
    "id": "xElnUVG6rHmu"
   },
   "source": [
    "# Prepareing data"
   ]
  },
  {
   "cell_type": "code",
   "execution_count": 33,
   "metadata": {
    "execution": {
     "iopub.execute_input": "2025-04-18T17:13:31.812916Z",
     "iopub.status.busy": "2025-04-18T17:13:31.812249Z",
     "iopub.status.idle": "2025-04-18T17:13:31.816121Z",
     "shell.execute_reply": "2025-04-18T17:13:31.815368Z",
     "shell.execute_reply.started": "2025-04-18T17:13:31.812893Z"
    },
    "trusted": true
   },
   "outputs": [],
   "source": [
    "MAX_LENGTH = 27"
   ]
  },
  {
   "cell_type": "code",
   "execution_count": 34,
   "metadata": {
    "colab": {
     "base_uri": "https://localhost:8080/"
    },
    "execution": {
     "iopub.execute_input": "2025-04-18T17:13:37.021134Z",
     "iopub.status.busy": "2025-04-18T17:13:37.020907Z",
     "iopub.status.idle": "2025-04-18T17:13:37.025536Z",
     "shell.execute_reply": "2025-04-18T17:13:37.024815Z",
     "shell.execute_reply.started": "2025-04-18T17:13:37.021119Z"
    },
    "id": "SDJQKhhR4F-g",
    "outputId": "c783c702-9580-4c62-a3b0-b71a66e69416",
    "trusted": true
   },
   "outputs": [],
   "source": [
    "def prepareData(lang1, lang2, df):\n",
    "    input_lang, output_lang, pairs = readLangs(lang1, lang2, df)\n",
    "    print(\"Read %s sentence pairs\" % len(pairs))\n",
    "\n",
    "    # pairs = filterPairs(pairs)\n",
    "    # print(\"Trimmed to %s sentence pairs\" % len(pairs))\n",
    "    print(\"Counting words...\")\n",
    "\n",
    "    for pair in pairs:\n",
    "        input_lang.addSentence(pair[0])\n",
    "        output_lang.addSentence(pair[1])\n",
    "    print(\"Counted words:\")\n",
    "\n",
    "    print(input_lang.name, input_lang.n_words)\n",
    "    print(output_lang.name, output_lang.n_words)\n",
    "    return input_lang, output_lang, pairs"
   ]
  },
  {
   "cell_type": "code",
   "execution_count": 35,
   "metadata": {
    "execution": {
     "iopub.execute_input": "2025-04-18T17:13:43.542335Z",
     "iopub.status.busy": "2025-04-18T17:13:43.542058Z",
     "iopub.status.idle": "2025-04-18T17:13:44.230067Z",
     "shell.execute_reply": "2025-04-18T17:13:44.229474Z",
     "shell.execute_reply.started": "2025-04-18T17:13:43.542316Z"
    },
    "trusted": true
   },
   "outputs": [
    {
     "name": "stdout",
     "output_type": "stream",
     "text": [
      "Reading lines...\n",
      "Read 43297 sentence pairs\n",
      "Counting words...\n",
      "Counted words:\n",
      "bn 18920\n",
      "en 10320\n"
     ]
    }
   ],
   "source": [
    "input_lang, output_lang, pairs = prepareData('bn', 'en', df)"
   ]
  },
  {
   "cell_type": "code",
   "execution_count": 36,
   "metadata": {
    "execution": {
     "iopub.execute_input": "2025-04-18T17:13:48.304469Z",
     "iopub.status.busy": "2025-04-18T17:13:48.304239Z",
     "iopub.status.idle": "2025-04-18T17:13:48.309350Z",
     "shell.execute_reply": "2025-04-18T17:13:48.308581Z",
     "shell.execute_reply.started": "2025-04-18T17:13:48.304454Z"
    },
    "id": "xWFpTkIW45TD",
    "trusted": true
   },
   "outputs": [
    {
     "name": "stdout",
     "output_type": "stream",
     "text": [
      "[['যান', 'go'], ['যা', 'go'], ['পালাও', 'run'], ['পালান', 'run'], ['কে', 'who'], ['আগুন', 'fire'], ['বাঁচাও', 'help'], ['বাঁচান', 'help'], ['থামুন', 'stop'], ['থামো', 'stop'], ['থাম', 'stop'], ['নমস্কার', 'hello'], ['বুঝলাম', 'i see'], ['আমি চেষ্টা করি', 'i try'], ['একটু হাসুন', 'smile'], ['একটু হাসো', 'smile'], ['আক্রমণ', 'attack'], ['ওঠো', 'get up'], ['উঠুন', 'get up'], ['বুঝে গেছি', 'got it'], ['ধরেছি', 'got it'], ['বুঝেছো', 'got it'], ['বুঝেছেন', 'got it'], ['বুঝেছিস', 'got it'], ['আমি জানি', 'i know'], ['আমার জানা আছে', 'i know'], ['আমি হেরে গেছি', 'i lost'], ['আমার ১৯ বছর বয়স', 'i am 19'], ['আমি ঠিক আছি', 'i am ok'], ['শোন', 'listen'], ['শুনুন', 'listen'], ['কোন মতেই না', 'no way'], ['সত্যি', 'really'], ['তাই নাক', 'really'], ['ধন্যবাদ', 'thanks'], ['চেখে দেখুন', 'try it'], ['চেখে দেখো', 'try it'], ['আমরা জিতে গেছে', 'we won'], ['আমিই কেন', 'why me'], ['টমকে জিজ্ঞাসা করো', 'ask tom'], ['টমকে জিজ্ঞাসা করুন', 'ask tom'], ['টমকে জিজ্ঞাসা কর', 'ask tom'], ['আমাকে ডেক', 'call me'], ['আমাকে ডাকবেন', 'call me'], ['আমাকে ডাকিস', 'call me'], ['আমাদের ডেকো', 'call us'], ['আমাদের ডাকিস', 'call us'], ['আমাদের ডাকবেন', 'call us'], ['ভেতরে আসুন', 'come in'], ['ভেতরে আসো', 'come in']]\n"
     ]
    }
   ],
   "source": [
    "print(pairs[:50])"
   ]
  },
  {
   "cell_type": "code",
   "execution_count": 37,
   "metadata": {
    "execution": {
     "iopub.execute_input": "2025-04-18T17:13:52.737726Z",
     "iopub.status.busy": "2025-04-18T17:13:52.737211Z",
     "iopub.status.idle": "2025-04-18T17:13:52.748220Z",
     "shell.execute_reply": "2025-04-18T17:13:52.747461Z",
     "shell.execute_reply.started": "2025-04-18T17:13:52.737704Z"
    },
    "trusted": true
   },
   "outputs": [
    {
     "name": "stdout",
     "output_type": "stream",
     "text": [
      "Maximum length of english sentence : 26 \n",
      "Maximum length of bengali sentence : 26\n"
     ]
    }
   ],
   "source": [
    "print(f\"Maximum length of english sentence : {max(df['en_word_length'])} \\nMaximum length of bengali sentence : {max(df['bn_word_length'])}\")"
   ]
  },
  {
   "cell_type": "markdown",
   "metadata": {
    "id": "tyMWNpblDm52"
   },
   "source": [
    "# Encoder block"
   ]
  },
  {
   "cell_type": "code",
   "execution_count": null,
   "metadata": {
    "execution": {
     "iopub.execute_input": "2025-04-18T17:13:57.335140Z",
     "iopub.status.busy": "2025-04-18T17:13:57.334876Z",
     "iopub.status.idle": "2025-04-18T17:13:57.340276Z",
     "shell.execute_reply": "2025-04-18T17:13:57.339734Z",
     "shell.execute_reply.started": "2025-04-18T17:13:57.335121Z"
    },
    "trusted": true
   },
   "outputs": [],
   "source": [
    "# class EncoderRNN(nn.Module):\n",
    "#     def __init__(self, input_vocab_size, hidden_size, dropout_p=0.1):\n",
    "#         super(EncoderRNN, self).__init__()\n",
    "#         self.hidden_size = hidden_size\n",
    "#         self.embedding = nn.Embedding(input_vocab_size, hidden_size)\n",
    "#         self.lstm = nn.LSTM(hidden_size, hidden_size, batch_first=True, bidirectional=True)\n",
    "#         self.dropout = nn.Dropout(dropout_p)\n",
    "\n",
    "#     def forward(self, input_vector):\n",
    "#         embedded = self.dropout(self.embedding(input_vector))\n",
    "#         output, (hidden, cell) = self.lstm(embedded)\n",
    "#         return output, (hidden, cell)\n"
   ]
  },
  {
   "cell_type": "code",
   "execution_count": null,
   "metadata": {
    "id": "88hu2Bpv9xLg"
   },
   "outputs": [],
   "source": [
    "# class EncoderRNN(nn.Module):\n",
    "#     def __init__(self, input_size, hidden_size, dropout_p=0.1):\n",
    "#         super(EncoderRNN, self).__init__()\n",
    "#         self.hidden_size = hidden_size\n",
    "\n",
    "#         self.embedding = nn.Embedding(input_size, hidden_size)\n",
    "#         self.gru = nn.GRU(hidden_size, hidden_size, batch_first=True)\n",
    "#         self.dropout = nn.Dropout(dropout_p)\n",
    "\n",
    "#     def forward(self, input):\n",
    "#         embedded = self.dropout(self.embedding(input))\n",
    "#         output, hidden = self.gru(embedded)\n",
    "#         return output, hidden\n",
    "\n"
   ]
  },
  {
   "cell_type": "markdown",
   "metadata": {},
   "source": [
    "# Attention Block"
   ]
  },
  {
   "cell_type": "code",
   "execution_count": null,
   "metadata": {
    "execution": {
     "iopub.execute_input": "2025-04-18T17:14:12.687175Z",
     "iopub.status.busy": "2025-04-18T17:14:12.686619Z",
     "iopub.status.idle": "2025-04-18T17:14:12.692074Z",
     "shell.execute_reply": "2025-04-18T17:14:12.691314Z",
     "shell.execute_reply.started": "2025-04-18T17:14:12.687153Z"
    },
    "id": "EE0vzUsqDrao",
    "trusted": true
   },
   "outputs": [],
   "source": [
    "# class BahdanauAttention(nn.Module):\n",
    "#     def __init__(self, hidden_size):\n",
    "#         super(BahdanauAttention, self).__init__()\n",
    "#         self.Wa = nn.Linear(hidden_size, hidden_size)\n",
    "#         self.Ua = nn.Linear(hidden_size * 2, hidden_size)  # 2x for bidirectional encoder\n",
    "#         self.Va = nn.Linear(hidden_size, 1)\n",
    "\n",
    "#     def forward(self, query, keys):\n",
    "#         scores = self.Va(torch.tanh(self.Wa(query) + self.Ua(keys)))\n",
    "#         scores = scores.squeeze(2).unsqueeze(1)\n",
    "#         weights = F.softmax(scores, dim=-1)\n",
    "#         context = torch.bmm(weights, keys)\n",
    "#         return context, weights\n"
   ]
  },
  {
   "cell_type": "markdown",
   "metadata": {
    "id": "8y2tzNBJEo-X"
   },
   "source": [
    "# Decoder block with attention."
   ]
  },
  {
   "cell_type": "code",
   "execution_count": null,
   "metadata": {
    "execution": {
     "iopub.execute_input": "2025-04-18T17:14:21.191221Z",
     "iopub.status.busy": "2025-04-18T17:14:21.190709Z",
     "iopub.status.idle": "2025-04-18T17:14:21.201534Z",
     "shell.execute_reply": "2025-04-18T17:14:21.200892Z",
     "shell.execute_reply.started": "2025-04-18T17:14:21.191199Z"
    },
    "trusted": true
   },
   "outputs": [],
   "source": [
    "# class AttnDecoderRNN(nn.Module):\n",
    "#     def __init__(self, hidden_size, output_vocab_size, dropout_p=0.1):\n",
    "#         super(AttnDecoderRNN, self).__init__()\n",
    "#         self.hidden_size = hidden_size\n",
    "#         self.embedding = nn.Embedding(output_vocab_size, hidden_size)\n",
    "#         self.attention = BahdanauAttention(hidden_size)\n",
    "#         self.lstm = nn.LSTM(hidden_size * 3, hidden_size, batch_first=True)  # 1x embed + 2x context\n",
    "#         self.out = nn.Linear(hidden_size, output_vocab_size)\n",
    "#         self.dropout = nn.Dropout(dropout_p)\n",
    "\n",
    "#         # Projection layers to reduce bi-LSTM encoder output to match decoder LSTM input size\n",
    "#         self.reduce_h = nn.Linear(hidden_size * 2, hidden_size)\n",
    "#         self.reduce_c = nn.Linear(hidden_size * 2, hidden_size)\n",
    "\n",
    "#     def forward(self, encoder_outputs, encoder_hidden, target_tensor=None):\n",
    "#         batch_size = encoder_outputs.size(0)\n",
    "#         decoder_input = torch.empty(batch_size, 1, dtype=torch.long, device=device).fill_(SOS_token)\n",
    "\n",
    "#         # Reduce bidirectional encoder hidden states to unidirectional decoder hidden states\n",
    "#         h = torch.cat((encoder_hidden[0][-2], encoder_hidden[0][-1]), dim=1)  # hidden\n",
    "#         c = torch.cat((encoder_hidden[1][-2], encoder_hidden[1][-1]), dim=1)  # cell\n",
    "#         decoder_hidden = (self.reduce_h(h).unsqueeze(0), self.reduce_c(c).unsqueeze(0))\n",
    "\n",
    "#         decoder_outputs = []\n",
    "#         attentions = []\n",
    "\n",
    "#         for i in range(MAX_LENGTH):\n",
    "#             decoder_output, decoder_hidden, attn_weights = self.forward_step(decoder_input, decoder_hidden, encoder_outputs)\n",
    "#             decoder_outputs.append(decoder_output)\n",
    "#             attentions.append(attn_weights)\n",
    "\n",
    "#             if target_tensor is not None:\n",
    "#                 decoder_input = target_tensor[:, i].unsqueeze(1)  # Teacher forcing\n",
    "#             else:\n",
    "#                 _, topi = decoder_output.topk(1)\n",
    "#                 decoder_input = topi.squeeze(-1).detach()\n",
    "\n",
    "#         decoder_outputs = torch.cat(decoder_outputs, dim=1)\n",
    "#         decoder_outputs = F.log_softmax(decoder_outputs, dim=-1)\n",
    "#         attentions = torch.cat(attentions, dim=1)\n",
    "\n",
    "#         return decoder_outputs, decoder_hidden, attentions\n",
    "\n",
    "#     def forward_step(self, input_vector, hidden, encoder_outputs):\n",
    "#         embedded = self.dropout(self.embedding(input_vector))\n",
    "#         query = hidden[0].permute(1, 0, 2)  # Use hidden state\n",
    "\n",
    "#         context, attn_weights = self.attention(query, encoder_outputs)\n",
    "#         input_lstm = torch.cat((embedded, context), dim=2)\n",
    "\n",
    "#         output, hidden = self.lstm(input_lstm, hidden)\n",
    "#         output = self.out(output)\n",
    "\n",
    "#         return output, hidden, attn_weights\n"
   ]
  },
  {
   "cell_type": "code",
   "execution_count": 56,
   "metadata": {
    "execution": {
     "iopub.execute_input": "2025-04-18T15:08:49.272561Z",
     "iopub.status.busy": "2025-04-18T15:08:49.272311Z",
     "iopub.status.idle": "2025-04-18T15:08:49.281707Z",
     "shell.execute_reply": "2025-04-18T15:08:49.281050Z",
     "shell.execute_reply.started": "2025-04-18T15:08:49.272541Z"
    },
    "trusted": true
   },
   "outputs": [],
   "source": [
    "# class AttnDecoderRNN(nn.Module):\n",
    "#     def __init__(self, hidden_size, output_vocab_size, dropout_p=0.1):\n",
    "#         super(AttnDecoderRNN, self).__init__()\n",
    "#         self.embedding = nn.Embedding(output_vocab_size, hidden_size)\n",
    "#         self.attention = BahdanauAttention(hidden_size)\n",
    "#         self.lstm = nn.LSTM(hidden_size * 3, hidden_size, batch_first=True)  # 1x embed + 2x context\n",
    "#         self.out = nn.Linear(hidden_size, output_vocab_size)\n",
    "#         self.dropout = nn.Dropout(dropout_p)\n",
    "\n",
    "#     def forward(self, encoder_outputs, encoder_hidden, target_tensor=None):\n",
    "#         batch_size = encoder_outputs.size(0)\n",
    "#         decoder_input = torch.empty(batch_size, 1, dtype=torch.long, device=device).fill_(SOS_token)\n",
    "\n",
    "#         # Merge bidirectional LSTM states\n",
    "#         decoder_hidden = (\n",
    "#             torch.cat((encoder_hidden[0][-2], encoder_hidden[0][-1]), dim=1).unsqueeze(0),  # hidden state\n",
    "#             torch.cat((encoder_hidden[1][-2], encoder_hidden[1][-1]), dim=1).unsqueeze(0)   # cell state\n",
    "#         )\n",
    "\n",
    "#         decoder_outputs = []\n",
    "#         attentions = []\n",
    "\n",
    "#         for i in range(MAX_LENGTH):\n",
    "#             decoder_output, decoder_hidden, attn_weights = self.forward_step(decoder_input, decoder_hidden, encoder_outputs)\n",
    "#             decoder_outputs.append(decoder_output)\n",
    "#             attentions.append(attn_weights)\n",
    "\n",
    "#             if target_tensor is not None:\n",
    "#                 decoder_input = target_tensor[:, i].unsqueeze(1)\n",
    "#             else:\n",
    "#                 _, topi = decoder_output.topk(1)\n",
    "#                 decoder_input = topi.squeeze(-1).detach()\n",
    "\n",
    "#         decoder_outputs = torch.cat(decoder_outputs, dim=1)\n",
    "#         decoder_outputs = F.log_softmax(decoder_outputs, dim=-1)\n",
    "#         attentions = torch.cat(attentions, dim=1)\n",
    "#         return decoder_outputs, decoder_hidden, attentions\n",
    "\n",
    "#     def forward_step(self, input_vector, hidden, encoder_outputs):\n",
    "#         embedded = self.dropout(self.embedding(input_vector))\n",
    "#         query = hidden[0].permute(1, 0, 2)  # use hidden state\n",
    "\n",
    "#         context, attn_weights = self.attention(query, encoder_outputs)\n",
    "#         input_lstm = torch.cat((embedded, context), dim=2)\n",
    "\n",
    "#         output, hidden = self.lstm(input_lstm, hidden)\n",
    "#         output = self.out(output)\n",
    "#         return output, hidden, attn_weights\n"
   ]
  },
  {
   "cell_type": "code",
   "execution_count": null,
   "metadata": {
    "id": "FgQoRzjKEuX6"
   },
   "outputs": [],
   "source": [
    "# class BahdanauAttention(nn.Module):\n",
    "#     def __init__(self, hidden_size):\n",
    "#         super(BahdanauAttention, self).__init__()\n",
    "#         self.Wa = nn.Linear(hidden_size, hidden_size)\n",
    "#         self.Ua = nn.Linear(hidden_size, hidden_size)\n",
    "#         self.Va = nn.Linear(hidden_size, 1)\n",
    "\n",
    "#     def forward(self, query, keys):\n",
    "#         scores = self.Va(torch.tanh(self.Wa(query) + self.Ua(keys)))\n",
    "#         scores = scores.squeeze(2).unsqueeze(1)\n",
    "\n",
    "#         weights = F.softmax(scores, dim=-1)\n",
    "#         context = torch.bmm(weights, keys)\n",
    "\n",
    "#         return context, weights\n",
    "\n",
    "# class AttnDecoderRNN(nn.Module):\n",
    "#     def __init__(self, hidden_size, output_size, dropout_p=0.1):\n",
    "#         super(AttnDecoderRNN, self).__init__()\n",
    "#         self.embedding = nn.Embedding(output_size, hidden_size)\n",
    "#         self.attention = BahdanauAttention(hidden_size)\n",
    "#         self.gru = nn.GRU(2 * hidden_size, hidden_size, batch_first=True)\n",
    "#         self.out = nn.Linear(hidden_size, output_size)\n",
    "#         self.dropout = nn.Dropout(dropout_p)\n",
    "\n",
    "#     def forward(self, encoder_outputs, encoder_hidden, target_tensor=None):\n",
    "#         batch_size = encoder_outputs.size(0)\n",
    "#         decoder_input = torch.empty(batch_size, 1, dtype=torch.long, device=device).fill_(SOS_token)\n",
    "#         decoder_hidden = encoder_hidden\n",
    "#         decoder_outputs = []\n",
    "#         attentions = []\n",
    "\n",
    "#         for i in range(MAX_LENGTH):\n",
    "#             decoder_output, decoder_hidden, attn_weights = self.forward_step(decoder_input, decoder_hidden, encoder_outputs)\n",
    "#             decoder_outputs.append(decoder_output)\n",
    "#             attentions.append(attn_weights)\n",
    "\n",
    "#             if target_tensor is not None:\n",
    "#                 # Teacher forcing: Feed the target as the next input\n",
    "#                 decoder_input = target_tensor[:, i].unsqueeze(1) # Teacher forcing\n",
    "#             else:\n",
    "#                 # Without teacher forcing: use its own predictions as the next input\n",
    "#                 _, topi = decoder_output.topk(1)\n",
    "#                 decoder_input = topi.squeeze(-1).detach()  # detach from history as input\n",
    "\n",
    "#         decoder_outputs = torch.cat(decoder_outputs, dim=1)\n",
    "#         decoder_outputs = F.log_softmax(decoder_outputs, dim=-1)\n",
    "#         attentions = torch.cat(attentions, dim=1)\n",
    "\n",
    "#         return decoder_outputs, decoder_hidden, attentions\n",
    "\n",
    "\n",
    "#     def forward_step(self, input, hidden, encoder_outputs):\n",
    "#         embedded =  self.dropout(self.embedding(input))\n",
    "\n",
    "#         query = hidden.permute(1, 0, 2)\n",
    "#         context, attn_weights = self.attention(query, encoder_outputs)\n",
    "#         input_gru = torch.cat((embedded, context), dim=2)\n",
    "\n",
    "#         output, hidden = self.gru(input_gru, hidden)\n",
    "#         output = self.out(output)\n",
    "\n",
    "#         return output, hidden, attn_weights\n",
    "\n"
   ]
  },
  {
   "cell_type": "markdown",
   "metadata": {},
   "source": [
    "# My Model"
   ]
  },
  {
   "cell_type": "code",
   "execution_count": 38,
   "metadata": {
    "id": "iQY1IESmEwrg"
   },
   "outputs": [],
   "source": [
    "class MyModel(nn.Module):\n",
    "    def __init__(self, input_vocab_size, output_vocab_size, hidden_size, dropout_p=0.1):\n",
    "        super(MyModel, self).__init__()\n",
    "        self.hidden_size = hidden_size\n",
    "\n",
    "        # Encoder\n",
    "        self.embedding_enc = nn.Embedding(input_vocab_size, hidden_size)\n",
    "        self.lstm_enc = nn.LSTM(hidden_size, hidden_size, batch_first=True, bidirectional=True)\n",
    "        self.dropout_enc = nn.Dropout(dropout_p)\n",
    "\n",
    "        # Attention\n",
    "        self.Wa = nn.Linear(hidden_size, hidden_size)\n",
    "        self.Ua = nn.Linear(hidden_size * 2, hidden_size)  # 2x for bidirectional encoder\n",
    "        self.Va = nn.Linear(hidden_size, 1)\n",
    "\n",
    "        # Decoder\n",
    "        self.embedding_dec = nn.Embedding(output_vocab_size, hidden_size)\n",
    "        self.lstm_dec = nn.LSTM(hidden_size * 3, hidden_size, batch_first=True)  # embed + 2x context\n",
    "        self.out = nn.Linear(hidden_size, output_vocab_size)\n",
    "        self.dropout_dec = nn.Dropout(dropout_p)\n",
    "\n",
    "        # Projection layers (reduce bi-LSTM encoder outputs)\n",
    "        self.reduce_h = nn.Linear(hidden_size * 2, hidden_size)\n",
    "        self.reduce_c = nn.Linear(hidden_size * 2, hidden_size)\n",
    "\n",
    "    def encode(self, input_vector):\n",
    "        embedded = self.dropout_enc(self.embedding_enc(input_vector))\n",
    "        output, (hidden, cell) = self.lstm_enc(embedded)\n",
    "        return output, (hidden, cell)\n",
    "\n",
    "    def attention(self, query, keys):\n",
    "        scores = self.Va(torch.tanh(self.Wa(query) + self.Ua(keys)))\n",
    "        scores = scores.squeeze(2).unsqueeze(1)\n",
    "        weights = F.softmax(scores, dim=-1)\n",
    "        context = torch.bmm(weights, keys)\n",
    "        return context, weights\n",
    "\n",
    "    def forward(self, input_tensor, target_tensor=None):\n",
    "        # Encode\n",
    "        encoder_outputs, encoder_hidden = self.encode(input_tensor)\n",
    "        batch_size = encoder_outputs.size(0)\n",
    "        decoder_input = torch.full((batch_size, 1), SOS_token, dtype=torch.long, device=input_tensor.device)\n",
    "\n",
    "        # Reduce bi-LSTM states\n",
    "        h = torch.cat((encoder_hidden[0][-2], encoder_hidden[0][-1]), dim=1)\n",
    "        c = torch.cat((encoder_hidden[1][-2], encoder_hidden[1][-1]), dim=1)\n",
    "        decoder_hidden = (self.reduce_h(h).unsqueeze(0), self.reduce_c(c).unsqueeze(0))\n",
    "\n",
    "        decoder_outputs = []\n",
    "        attentions = []\n",
    "\n",
    "        for i in range(MAX_LENGTH):\n",
    "            embedded = self.dropout_dec(self.embedding_dec(decoder_input))\n",
    "            query = decoder_hidden[0].permute(1, 0, 2)\n",
    "\n",
    "            context, attn_weights = self.attention(query, encoder_outputs)\n",
    "            input_lstm = torch.cat((embedded, context), dim=2)\n",
    "\n",
    "            output, decoder_hidden = self.lstm_dec(input_lstm, decoder_hidden)\n",
    "            output = self.out(output)\n",
    "\n",
    "            decoder_outputs.append(output)\n",
    "            attentions.append(attn_weights)\n",
    "\n",
    "            if target_tensor is not None:\n",
    "                decoder_input = target_tensor[:, i].unsqueeze(1)  # Teacher forcing\n",
    "            else:\n",
    "                _, topi = output.topk(1)\n",
    "                decoder_input = topi.squeeze(-1).detach()\n",
    "\n",
    "        decoder_outputs = torch.cat(decoder_outputs, dim=1)\n",
    "        decoder_outputs = F.log_softmax(decoder_outputs, dim=-1)\n",
    "        attentions = torch.cat(attentions, dim=1)\n",
    "\n",
    "        return decoder_outputs, decoder_hidden, attentions\n"
   ]
  },
  {
   "cell_type": "markdown",
   "metadata": {
    "id": "_fK60lioGbcb"
   },
   "source": [
    "# Prepare training data."
   ]
  },
  {
   "cell_type": "code",
   "execution_count": 39,
   "metadata": {
    "execution": {
     "iopub.execute_input": "2025-04-18T20:10:47.368715Z",
     "iopub.status.busy": "2025-04-18T20:10:47.368413Z",
     "iopub.status.idle": "2025-04-18T20:10:47.376950Z",
     "shell.execute_reply": "2025-04-18T20:10:47.376215Z",
     "shell.execute_reply.started": "2025-04-18T20:10:47.368666Z"
    },
    "id": "sMDJM9VAGa-p",
    "trusted": true
   },
   "outputs": [],
   "source": [
    "def indexesFromSentence(lang, sentence):\n",
    "    return [lang.word2index[word] for word in sentence.split(' ')]\n",
    "\n",
    "def tensorFromSentence(lang, sentence):\n",
    "    indexes = indexesFromSentence(lang, sentence)\n",
    "    indexes.append(EOS_token)\n",
    "    return torch.tensor(indexes, dtype=torch.long, device=device).view(1, -1)\n",
    "\n",
    "def tensorsFromPair(pair):\n",
    "    input_tensor = tensorFromSentence(input_lang, pair[0])\n",
    "    target_tensor = tensorFromSentence(output_lang, pair[1])\n",
    "    return (input_tensor, target_tensor)\n",
    "\n",
    "def get_dataloader(batch_size):\n",
    "    input_lang, output_lang, pairs = prepareData('bn', 'en', df)\n",
    "\n",
    "    n = len(pairs)\n",
    "    input_ids = np.zeros((n, MAX_LENGTH), dtype=np.int32)\n",
    "    target_ids = np.zeros((n, MAX_LENGTH), dtype=np.int32)\n",
    "    print(input_ids.shape)\n",
    "\n",
    "    # For checking purpose what are the indices associated with sentences\n",
    "    a = indexesFromSentence(input_lang, pairs[1][0])\n",
    "    print(a)\n",
    "    b = indexesFromSentence(output_lang, pairs[1][1])\n",
    "    print(b)\n",
    "\n",
    "    for idx, (inp, tgt) in enumerate(pairs):\n",
    "        inp_ids = indexesFromSentence(input_lang, inp)\n",
    "        tgt_ids = indexesFromSentence(output_lang, tgt)\n",
    "        inp_ids.append(EOS_token)\n",
    "        tgt_ids.append(EOS_token)\n",
    "        input_ids[idx, :len(inp_ids)] = inp_ids       # idx represents pair number.\n",
    "        target_ids[idx, :len(tgt_ids)] = tgt_ids\n",
    "\n",
    "    print(input_ids[1])\n",
    "    print(target_ids[1])\n",
    "\n",
    "    train_data = TensorDataset(torch.LongTensor(input_ids).to(device), torch.LongTensor(target_ids).to(device))\n",
    "\n",
    "    print(train_data[1])\n",
    "\n",
    "    train_sampler = RandomSampler(train_data)\n",
    "    train_dataloader = DataLoader(train_data, sampler=train_sampler, batch_size=batch_size)\n",
    "    return input_lang, output_lang, train_dataloader\n",
    "\n"
   ]
  },
  {
   "cell_type": "code",
   "execution_count": 40,
   "metadata": {
    "colab": {
     "base_uri": "https://localhost:8080/"
    },
    "execution": {
     "iopub.execute_input": "2025-04-18T20:10:51.535898Z",
     "iopub.status.busy": "2025-04-18T20:10:51.535301Z",
     "iopub.status.idle": "2025-04-18T20:10:52.395320Z",
     "shell.execute_reply": "2025-04-18T20:10:52.394681Z",
     "shell.execute_reply.started": "2025-04-18T20:10:51.535872Z"
    },
    "id": "kvxj0KM7GlTa",
    "outputId": "b94748b9-6edc-429b-e13d-1ede23a3c97a",
    "trusted": true
   },
   "outputs": [
    {
     "name": "stdout",
     "output_type": "stream",
     "text": [
      "Reading lines...\n",
      "Read 43297 sentence pairs\n",
      "Counting words...\n",
      "Counted words:\n",
      "bn 18920\n",
      "en 10320\n",
      "(43297, 27)\n",
      "[3]\n",
      "[2]\n",
      "[3 1 0 0 0 0 0 0 0 0 0 0 0 0 0 0 0 0 0 0 0 0 0 0 0 0 0]\n",
      "[2 1 0 0 0 0 0 0 0 0 0 0 0 0 0 0 0 0 0 0 0 0 0 0 0 0 0]\n",
      "(tensor([3, 1, 0, 0, 0, 0, 0, 0, 0, 0, 0, 0, 0, 0, 0, 0, 0, 0, 0, 0, 0, 0, 0, 0,\n",
      "        0, 0, 0]), tensor([2, 1, 0, 0, 0, 0, 0, 0, 0, 0, 0, 0, 0, 0, 0, 0, 0, 0, 0, 0, 0, 0, 0, 0,\n",
      "        0, 0, 0]))\n",
      "tensor([[  141,   226,  1303,    57,   905,   221,   427,  2626,     1,     0,\n",
      "             0,     0,     0,     0,     0,     0,     0,     0,     0,     0,\n",
      "             0,     0,     0,     0,     0,     0,     0],\n",
      "        [ 2733,  5762,  3145,   285,  3049,  3137,   468, 18486,  7683,  2076,\n",
      "          6692,  7946,     1,     0,     0,     0,     0,     0,     0,     0,\n",
      "             0,     0,     0,     0,     0,     0,     0],\n",
      "        [ 1903,  1904,  1905,  1410,  1906,   831,     1,     0,     0,     0,\n",
      "             0,     0,     0,     0,     0,     0,     0,     0,     0,     0,\n",
      "             0,     0,     0,     0,     0,     0,     0],\n",
      "        [  602,   454,  9666,  3109,  3370,  3145,  1853,  3436,  3409,     1,\n",
      "             0,     0,     0,     0,     0,     0,     0,     0,     0,     0,\n",
      "             0,     0,     0,     0,     0,     0,     0],\n",
      "        [ 6118,  3390,  1001, 18902, 18903,   468,  1674,  5350,     1,     0,\n",
      "             0,     0,     0,     0,     0,     0,     0,     0,     0,     0,\n",
      "             0,     0,     0,     0,     0,     0,     0],\n",
      "        [ 1864,  1993,  5994,  5995,   339,  3040,     1,     0,     0,     0,\n",
      "             0,     0,     0,     0,     0,     0,     0,     0,     0,     0,\n",
      "             0,     0,     0,     0,     0,     0,     0],\n",
      "        [ 1864,  3569,  3792,   685,  1864,  8540,  3192,  3747,     1,     0,\n",
      "             0,     0,     0,     0,     0,     0,     0,     0,     0,     0,\n",
      "             0,     0,     0,     0,     0,     0,     0],\n",
      "        [  141,   226,   849,   156,   326,  1769,  1770,   258,     1,     0,\n",
      "             0,     0,     0,     0,     0,     0,     0,     0,     0,     0,\n",
      "             0,     0,     0,     0,     0,     0,     0],\n",
      "        [11169,   602,  2149,  1864,   964,  3176,   685,  4328,  2076,  1864,\n",
      "           454,  1883,   500,  3639,  1128,  3244,  4175,     1,     0,     0,\n",
      "             0,     0,     0,     0,     0,     0,     0],\n",
      "        [  464,  1993,   324,  6350,   798,  5087,     1,     0,     0,     0,\n",
      "             0,     0,     0,     0,     0,     0,     0,     0,     0,     0,\n",
      "             0,     0,     0,     0,     0,     0,     0],\n",
      "        [ 3101,  3049, 11114,   265,  3033,  3121,  3113,     1,     0,     0,\n",
      "             0,     0,     0,     0,     0,     0,     0,     0,     0,     0,\n",
      "             0,     0,     0,     0,     0,     0,     0],\n",
      "        [  602,   454,  6590,  1278,  1486,   591,  4167,     1,     0,     0,\n",
      "             0,     0,     0,     0,     0,     0,     0,     0,     0,     0,\n",
      "             0,     0,     0,     0,     0,     0,     0],\n",
      "        [  453,  2149,  8224,   464,   240,   852,  4829,     1,     0,     0,\n",
      "             0,     0,     0,     0,     0,     0,     0,     0,     0,     0,\n",
      "             0,     0,     0,     0,     0,     0,     0],\n",
      "        [ 6039,  7380,  2597,   956,     1,     0,     0,     0,     0,     0,\n",
      "             0,     0,     0,     0,     0,     0,     0,     0,     0,     0,\n",
      "             0,     0,     0,     0,     0,     0,     0],\n",
      "        [ 3856,  2436,  3542,   602,  1386,   339,  3040,     1,     0,     0,\n",
      "             0,     0,     0,     0,     0,     0,     0,     0,     0,     0,\n",
      "             0,     0,     0,     0,     0,     0,     0],\n",
      "        [ 2733,  3015,  3919,   367,   453,  8441,  3415,     1,     0,     0,\n",
      "             0,     0,     0,     0,     0,     0,     0,     0,     0,     0,\n",
      "             0,     0,     0,     0,     0,     0,     0],\n",
      "        [ 5549,  3301,  2186,   400,   606,  2993,   156,   339,  3040,     1,\n",
      "             0,     0,     0,     0,     0,     0,     0,     0,     0,     0,\n",
      "             0,     0,     0,     0,     0,     0,     0],\n",
      "        [ 1997,   673,  2149,   570,  3244,  1864,  3202,   591,  3064,   285,\n",
      "           339,   687,     1,     0,     0,     0,     0,     0,     0,     0,\n",
      "             0,     0,     0,     0,     0,     0,     0],\n",
      "        [ 3301,  1864,  1386,  3682,  3163,  5782,     1,     0,     0,     0,\n",
      "             0,     0,     0,     0,     0,     0,     0,     0,     0,     0,\n",
      "             0,     0,     0,     0,     0,     0,     0],\n",
      "        [ 3204,  7344,   685,  1864,  6291,  1813,  3113,     1,     0,     0,\n",
      "             0,     0,     0,     0,     0,     0,     0,     0,     0,     0,\n",
      "             0,     0,     0,     0,     0,     0,     0],\n",
      "        [  602,  2149,  3204,  3460,  1853,  5147,  5118,  2677,     1,     0,\n",
      "             0,     0,     0,     0,     0,     0,     0,     0,     0,     0,\n",
      "             0,     0,     0,     0,     0,     0,     0],\n",
      "        [ 1864,  1241,   956,  3094,  9642,   375,  1890,  1063,   342,  4020,\n",
      "           285, 12368,  3597,     1,     0,     0,     0,     0,     0,     0,\n",
      "             0,     0,     0,     0,     0,     0,     0],\n",
      "        [ 3056,  4847,  3218,   673,  3410,  2415,  1293,    33,     1,     0,\n",
      "             0,     0,     0,     0,     0,     0,     0,     0,     0,     0,\n",
      "             0,     0,     0,     0,     0,     0,     0],\n",
      "        [ 6739,   570,  2076,  3915,  7832,  1104,  3415,     1,     0,     0,\n",
      "             0,     0,     0,     0,     0,     0,     0,     0,     0,     0,\n",
      "             0,     0,     0,     0,     0,     0,     0],\n",
      "        [  453,  1993,  5506,   685,   591,  1864,  3267,  3130,  2682,  1864,\n",
      "          3161,  2427,  4389,   178,   633,     1,     0,     0,     0,     0,\n",
      "             0,     0,     0,     0,     0,     0,     0],\n",
      "        [ 2733,  3141,  3240,   958,   935,  3106,     1,     0,     0,     0,\n",
      "             0,     0,     0,     0,     0,     0,     0,     0,     0,     0,\n",
      "             0,     0,     0,     0,     0,     0,     0],\n",
      "        [ 1864,  2149,  1864,  4069,   570,  9450,   400,  3096,   270,  1864,\n",
      "           585,  5705,   554,     1,     0,     0,     0,     0,     0,     0,\n",
      "             0,     0,     0,     0,     0,     0,     0],\n",
      "        [ 3133,    89,  3056,  1704,  1864,   685,  3892,  3160,  3040,     1,\n",
      "             0,     0,     0,     0,     0,     0,     0,     0,     0,     0,\n",
      "             0,     0,     0,     0,     0,     0,     0],\n",
      "        [  453,  1993,  1864,  4705,   270,  1864,   118,  6749,  8006,   943,\n",
      "             1,     0,     0,     0,     0,     0,     0,     0,     0,     0,\n",
      "             0,     0,     0,     0,     0,     0,     0],\n",
      "        [ 1864,  3176,  2076,   651,   685,  3051,   570,   908, 15211,     1,\n",
      "             0,     0,     0,     0,     0,     0,     0,     0,     0,     0,\n",
      "             0,     0,     0,     0,     0,     0,     0],\n",
      "        [  141,   268,   988,     1,     0,     0,     0,     0,     0,     0,\n",
      "             0,     0,     0,     0,     0,     0,     0,     0,     0,     0,\n",
      "             0,     0,     0,     0,     0,     0,     0],\n",
      "        [ 1864,  3056,    89,  1864,   651,   685,  4884,  3490,  2677,     1,\n",
      "             0,     0,     0,     0,     0,     0,     0,     0,     0,     0,\n",
      "             0,     0,     0,     0,     0,     0,     0]])\n",
      "tensor([[   69,    64,   981,   178,    33,   291,   569,     1,     0,     0,\n",
      "             0,     0,     0,     0,     0,     0,     0,     0,     0,     0,\n",
      "             0,     0,     0,     0,     0,     0,     0],\n",
      "        [  725, 10166,   195,   330,  2333,  1950,   384,  1993,   601,   846,\n",
      "          2965,   614,    37,  2175,     1,     0,     0,     0,     0,     0,\n",
      "             0,     0,     0,     0,     0,     0,     0],\n",
      "        [ 1230,   917,  1231,   612,    37,  1232,     1,     0,     0,     0,\n",
      "             0,     0,     0,     0,     0,     0,     0,     0,     0,     0,\n",
      "             0,     0,     0,     0,     0,     0,     0],\n",
      "        [  108,  2213,   339,    65,   236,   250,  2171,   530,   236,  1956,\n",
      "          1993,  3614,  2012,  3961,     1,     0,     0,     0,     0,     0,\n",
      "             0,     0,     0,     0,     0,     0,     0],\n",
      "        [  648,  2198,    37,  2236,   195,   454,  3414,  1811,     1,     0,\n",
      "             0,     0,     0,     0,     0,     0,     0,     0,     0,     0,\n",
      "             0,     0,     0,     0,     0,     0,     0],\n",
      "        [  197,    51,   236,   408,  1171,    37,   236,  3331,   258,   172,\n",
      "             1,     0,     0,     0,     0,     0,     0,     0,     0,     0,\n",
      "             0,     0,     0,     0,     0,     0,     0],\n",
      "        [  236,  2087,   430,  2016,    37,   236,  1984,  2024,     1,     0,\n",
      "             0,     0,     0,     0,     0,     0,     0,     0,     0,     0,\n",
      "             0,     0,     0,     0,     0,     0,     0],\n",
      "        [  125,    64,   166,    38,   108,  1182,   302,     1,     0,     0,\n",
      "             0,     0,     0,     0,     0,     0,     0,     0,     0,     0,\n",
      "             0,     0,     0,     0,     0,     0,     0],\n",
      "        [  236,   408,    37,  2236,   145,   236,   622,  1944,   430,   846,\n",
      "           236,   250,  2312,   236,   914,  2386,   145,   131,   536,   123,\n",
      "             1,     0,     0,     0,     0,     0,     0],\n",
      "        [  236,  2036,   139,  4428,    37,  3156,  1310,  7748,   846,   196,\n",
      "           258,  1630,  1501,     1,     0,     0,     0,     0,     0,     0,\n",
      "             0,     0,     0,     0,     0,     0,     0],\n",
      "        [  236,   430,    45,  1074,   509,   707,   723,   846,   236,  5485,\n",
      "          1993,  1706,  2781,  5294,  1993,  5843,   236,  2368,  1987,   236,\n",
      "          1984,  2024,     1,     0,     0,     0,     0],\n",
      "        [  236,   250,  2007,    37,   449,   935,   272,   236,   863,     1,\n",
      "             0,     0,     0,     0,     0,     0,     0,     0,     0,     0,\n",
      "             0,     0,     0,     0,     0,     0,     0],\n",
      "        [  236,   408,  2385,   502,   390,  5011,  1777,   406,  4720,     1,\n",
      "             0,     0,     0,     0,     0,     0,     0,     0,     0,     0,\n",
      "             0,     0,     0,     0,     0,     0,     0],\n",
      "        [  648,   617,   258,   449,  3491,   139,   236,  2796,     1,     0,\n",
      "             0,     0,     0,     0,     0,     0,     0,     0,     0,     0,\n",
      "             0,     0,     0,     0,     0,     0,     0],\n",
      "        [  236,   983,    37,   236,   818,  1427,  1953,   406,   236,  2012,\n",
      "           406,   449,  1994,   139,   236,  1214,     1,     0,     0,     0,\n",
      "             0,     0,     0,     0,     0,     0,     0],\n",
      "        [  725,  2198,  2007,  1993,   177,    51,   597,   263,  5151,     1,\n",
      "             0,     0,     0,     0,     0,     0,     0,     0,     0,     0,\n",
      "             0,     0,     0,     0,     0,     0,     0],\n",
      "        [  236,   408,  2140,    37,   449,    50,  2086,   258,   236,  1995,\n",
      "           530,   236,   430,     1,     0,     0,     0,     0,     0,     0,\n",
      "             0,     0,     0,     0,     0,     0,     0],\n",
      "        [  236,   690,  1165,   236,   742,  1953,   406,   449,   584,   272,\n",
      "           236,  2245,   536,   123,     1,     0,     0,     0,     0,     0,\n",
      "             0,     0,     0,     0,     0,     0,     0],\n",
      "        [  236,   863,  2020,    37,   449,  1438,   406,   449,  1995,     1,\n",
      "             0,     0,     0,     0,     0,     0,     0,     0,     0,     0,\n",
      "             0,     0,     0,     0,     0,     0,     0],\n",
      "        [  236,  2036,   139,  4508,  1405,    45,   502,   236,  2270,  3070,\n",
      "             1,     0,     0,     0,     0,     0,     0,     0,     0,     0,\n",
      "             0,     0,     0,     0,     0,     0,     0],\n",
      "        [  236,   408,    51,  3131,    97,   236,  2182,    37,  1872,   139,\n",
      "           236,  2036,   139,   667,     1,     0,     0,     0,     0,     0,\n",
      "             0,     0,     0,     0,     0,     0,     0],\n",
      "        [  236,  1131,   863,  2020,  1976,   879,  1501,   617,  7281,  1675,\n",
      "           801,   330,  1675,  2460,   370,     1,     0,     0,     0,     0,\n",
      "             0,     0,     0,     0,     0,     0,     0],\n",
      "        [  449,   983,    51,  1165,   236,  1761,  1551,  2991,   846,  1964,\n",
      "           236,  1551,     1,     0,     0,     0,     0,     0,     0,     0,\n",
      "             0,     0,     0,     0,     0,     0,     0],\n",
      "        [ 2504,  2152,   964,   272,  3112,   846,  3994,     1,     0,     0,\n",
      "             0,     0,     0,     0,     0,     0,     0,     0,     0,     0,\n",
      "             0,     0,     0,     0,     0,     0,     0],\n",
      "        [  236,   408,    51,  1100,   258,  1994,   139,   236,  2069,  1993,\n",
      "           272,   648,  1405,   846,    51,  2276,   236,  1560,    51,   384,\n",
      "             1,     0,     0,     0,     0,     0,     0],\n",
      "        [  725,  2210,   487,   272,  2057,   618,     1,     0,     0,     0,\n",
      "             0,     0,     0,     0,     0,     0,     0,     0,     0,     0,\n",
      "             0,     0,     0,     0,     0,     0,     0],\n",
      "        [  236,   690,  2658,   236,   340,  3484,   330,   449,  1977,   339,\n",
      "           263,  4357,    37,   236,  2229,     1,     0,     0,     0,     0,\n",
      "             0,     0,     0,     0,     0,     0,     0],\n",
      "        [  236,  1944,   846,  1761,   430,   406,   449,  1995,     1,     0,\n",
      "             0,     0,     0,     0,     0,     0,     0,     0,     0,     0,\n",
      "             0,     0,     0,     0,     0,     0,     0],\n",
      "        [  236,   408,  3258,   236,   613,   406,  2157,   139,   509,  1301,\n",
      "             1,     0,     0,     0,     0,     0,     0,     0,     0,     0,\n",
      "             0,     0,     0,     0,     0,     0,     0],\n",
      "        [  236,  1944,   846,   400,   430,  5097,   572,  2040,    37,   449,\n",
      "           584,     1,     0,     0,     0,     0,     0,     0,     0,     0,\n",
      "             0,     0,     0,     0,     0,     0,     0],\n",
      "        [  109,   159,    64,   511,     1,     0,     0,     0,     0,     0,\n",
      "             0,     0,     0,     0,     0,     0,     0,     0,     0,     0,\n",
      "             0,     0,     0,     0,     0,     0,     0],\n",
      "        [  236,  1761,   846,   400,   430,  2713,   856,     1,     0,     0,\n",
      "             0,     0,     0,     0,     0,     0,     0,     0,     0,     0,\n",
      "             0,     0,     0,     0,     0,     0,     0]])\n"
     ]
    }
   ],
   "source": [
    "input_lang, output_lang, train_dataloader = get_dataloader(32)\n",
    "for d in train_dataloader:\n",
    "    a1, b1 = d\n",
    "    break\n",
    "\n",
    "print(a1)\n",
    "print(b1)"
   ]
  },
  {
   "cell_type": "markdown",
   "metadata": {
    "id": "sTsr_BrDIV3x"
   },
   "source": [
    "# Training the model."
   ]
  },
  {
   "cell_type": "code",
   "execution_count": 41,
   "metadata": {},
   "outputs": [],
   "source": [
    "def train_epoch(dataloader, model, optimizer, criterion):\n",
    "    iterations = 0\n",
    "    total_loss = 0\n",
    "    print_loss_total = 0\n",
    "\n",
    "    for data in dataloader:\n",
    "        if iterations % 1000 == 0 and iterations != 0:\n",
    "            print_loss_avg = print_loss_total / 1000.0\n",
    "            print_loss_total = 0\n",
    "            print(f\"At the {iterations}-th iteration, the training loss is {print_loss_avg}\")\n",
    "\n",
    "        input_tensor, target_tensor = data\n",
    "\n",
    "        optimizer.zero_grad()\n",
    "        decoder_outputs, _, _ = model(input_tensor, target_tensor)\n",
    "\n",
    "        loss = criterion(\n",
    "            decoder_outputs.view(-1, decoder_outputs.size(-1)),\n",
    "            target_tensor.view(-1)\n",
    "        )\n",
    "        loss.backward()\n",
    "        optimizer.step()\n",
    "\n",
    "        total_loss += loss.item()\n",
    "        print_loss_total += loss.item()\n",
    "        iterations += 1\n",
    "\n",
    "    return total_loss / len(dataloader)"
   ]
  },
  {
   "cell_type": "code",
   "execution_count": null,
   "metadata": {
    "execution": {
     "iopub.execute_input": "2025-04-18T17:15:40.540142Z",
     "iopub.status.busy": "2025-04-18T17:15:40.539881Z",
     "iopub.status.idle": "2025-04-18T17:15:40.545707Z",
     "shell.execute_reply": "2025-04-18T17:15:40.544839Z",
     "shell.execute_reply.started": "2025-04-18T17:15:40.540124Z"
    },
    "id": "EG8_VkpUIU9f",
    "trusted": true
   },
   "outputs": [],
   "source": [
    "# def train_epoch(dataloader, encoder, decoder, encoder_optimizer, decoder_optimizer, criterion):\n",
    "#     iterations = 0\n",
    "#     total_loss = 0\n",
    "#     print_loss_total = 0  # Reset every print_every\n",
    "    \n",
    "#     for data in dataloader:\n",
    "#         if iterations % 1000 == 0:\n",
    "#             print_loss_avg = print_loss_total / 1000.0\n",
    "#             print_loss_total = 0\n",
    "#             print(f\"At the {iterations}-th iteration, the training loss is {print_loss_avg}\")\n",
    "\n",
    "#         input_tensor, target_tensor = data\n",
    "\n",
    "#         encoder_optimizer.zero_grad()       # initialize with gradient zero.\n",
    "#         decoder_optimizer.zero_grad()\n",
    "\n",
    "#         encoder_outputs, encoder_hidden = encoder(input_tensor)\n",
    "#         decoder_outputs, _, _ = decoder(encoder_outputs, encoder_hidden, target_tensor)\n",
    "\n",
    "#         loss = criterion(\n",
    "#             decoder_outputs.view(-1, decoder_outputs.size(-1)),\n",
    "#             target_tensor.view(-1)\n",
    "#         )                                         # calculating loss.\n",
    "#         loss.backward()\n",
    "\n",
    "#         encoder_optimizer.step()\n",
    "#         decoder_optimizer.step()\n",
    "\n",
    "#         total_loss += loss.item()\n",
    "#         print_loss_total += loss.item()\n",
    "#         iterations += 1\n",
    "\n",
    "#     return total_loss / len(dataloader)"
   ]
  },
  {
   "cell_type": "code",
   "execution_count": 42,
   "metadata": {
    "execution": {
     "iopub.execute_input": "2025-04-18T17:15:50.649329Z",
     "iopub.status.busy": "2025-04-18T17:15:50.648595Z",
     "iopub.status.idle": "2025-04-18T17:15:50.653526Z",
     "shell.execute_reply": "2025-04-18T17:15:50.652833Z",
     "shell.execute_reply.started": "2025-04-18T17:15:50.649306Z"
    },
    "id": "9UpAAOhYIb9R",
    "trusted": true
   },
   "outputs": [],
   "source": [
    "import time\n",
    "import math\n",
    "\n",
    "def asMinutes(s):\n",
    "    m = math.floor(s / 60)\n",
    "    s -= m * 60\n",
    "    return '%dm %ds' % (m, s)\n",
    "\n",
    "def timeSince(since, percent):\n",
    "    now = time.time()\n",
    "    s = now - since\n",
    "    es = s / (percent)\n",
    "    rs = es - s\n",
    "    return '%s (- %s)' % (asMinutes(s), asMinutes(rs))"
   ]
  },
  {
   "cell_type": "code",
   "execution_count": 43,
   "metadata": {},
   "outputs": [],
   "source": [
    "def train(train_dataloader, model, n_epochs, learning_rate=0.001):\n",
    "    start = time.time()\n",
    "    losses_list = []\n",
    "\n",
    "    optimizer = optim.Adam(model.parameters(), lr=learning_rate)\n",
    "    criterion = nn.NLLLoss()\n",
    "\n",
    "    for epoch in range(1, n_epochs + 1):\n",
    "        loss = train_epoch(train_dataloader, model, optimizer, criterion)\n",
    "        losses_list.append(loss)\n",
    "        print(f\"At the {epoch}-th epoch :-\")\n",
    "        print('%s %.4f' % (timeSince(start, epoch / n_epochs), loss))\n",
    "\n",
    "    return losses_list\n"
   ]
  },
  {
   "cell_type": "code",
   "execution_count": null,
   "metadata": {
    "execution": {
     "iopub.execute_input": "2025-04-18T17:15:57.631881Z",
     "iopub.status.busy": "2025-04-18T17:15:57.631605Z",
     "iopub.status.idle": "2025-04-18T17:15:57.637126Z",
     "shell.execute_reply": "2025-04-18T17:15:57.636384Z",
     "shell.execute_reply.started": "2025-04-18T17:15:57.631863Z"
    },
    "id": "6k-FrYgEIf51",
    "trusted": true
   },
   "outputs": [],
   "source": [
    "# def train(train_dataloader, encoder, decoder, n_epochs, learning_rate=0.001):\n",
    "#     start = time.time()\n",
    "#     losses_list = []\n",
    "\n",
    "#     encoder_optimizer = optim.Adam(encoder.parameters(), lr=learning_rate)\n",
    "#     decoder_optimizer = optim.Adam(decoder.parameters(), lr=learning_rate)\n",
    "#     criterion = nn.NLLLoss()\n",
    "\n",
    "#     for epoch in range(1, n_epochs + 1):\n",
    "#         loss = train_epoch(train_dataloader, encoder, decoder, encoder_optimizer, decoder_optimizer, criterion)\n",
    "#         losses_list.append(loss)\n",
    "#         print(f\"At the {epoch}-th epoch :-\")\n",
    "#         print('%s %.4f' % (timeSince(start, epoch / n_epochs), loss))\n",
    "\n",
    "#     return losses_list\n",
    "    "
   ]
  },
  {
   "cell_type": "markdown",
   "metadata": {
    "id": "MCWAjmPxJm6n"
   },
   "source": [
    "# Training."
   ]
  },
  {
   "cell_type": "code",
   "execution_count": 44,
   "metadata": {},
   "outputs": [
    {
     "name": "stdout",
     "output_type": "stream",
     "text": [
      "Reading lines...\n",
      "Read 43297 sentence pairs\n",
      "Counting words...\n",
      "Counted words:\n",
      "bn 18920\n",
      "en 10320\n",
      "(43297, 27)\n",
      "[3]\n",
      "[2]\n",
      "[3 1 0 0 0 0 0 0 0 0 0 0 0 0 0 0 0 0 0 0 0 0 0 0 0 0 0]\n",
      "[2 1 0 0 0 0 0 0 0 0 0 0 0 0 0 0 0 0 0 0 0 0 0 0 0 0 0]\n",
      "(tensor([3, 1, 0, 0, 0, 0, 0, 0, 0, 0, 0, 0, 0, 0, 0, 0, 0, 0, 0, 0, 0, 0, 0, 0,\n",
      "        0, 0, 0]), tensor([2, 1, 0, 0, 0, 0, 0, 0, 0, 0, 0, 0, 0, 0, 0, 0, 0, 0, 0, 0, 0, 0, 0, 0,\n",
      "        0, 0, 0]))\n"
     ]
    }
   ],
   "source": [
    "hidden_size = 128\n",
    "batch_size = 32\n",
    "n_epochs = 10\n",
    "learning_rate = 0.001\n",
    "\n",
    "input_lang, output_lang, train_dataloader = get_dataloader(batch_size)\n",
    "\n",
    "model = MyModel(input_lang.n_words, output_lang.n_words, hidden_size).to(device)"
   ]
  },
  {
   "cell_type": "code",
   "execution_count": 45,
   "metadata": {},
   "outputs": [
    {
     "name": "stdout",
     "output_type": "stream",
     "text": [
      "At the 1000-th iteration, the training loss is 2.0399986044168474\n",
      "At the 1-th epoch :-\n",
      "14m 58s (- 134m 42s) 1.9294\n"
     ]
    },
    {
     "ename": "KeyboardInterrupt",
     "evalue": "",
     "output_type": "error",
     "traceback": [
      "\u001b[31m---------------------------------------------------------------------------\u001b[39m",
      "\u001b[31mKeyboardInterrupt\u001b[39m                         Traceback (most recent call last)",
      "\u001b[36mCell\u001b[39m\u001b[36m \u001b[39m\u001b[32mIn[45]\u001b[39m\u001b[32m, line 2\u001b[39m\n\u001b[32m      1\u001b[39m model.train()\n\u001b[32m----> \u001b[39m\u001b[32m2\u001b[39m loss_list = \u001b[43mtrain\u001b[49m\u001b[43m(\u001b[49m\u001b[43mtrain_dataloader\u001b[49m\u001b[43m,\u001b[49m\u001b[43m \u001b[49m\u001b[43mmodel\u001b[49m\u001b[43m,\u001b[49m\u001b[43m \u001b[49m\u001b[43mn_epochs\u001b[49m\u001b[43m,\u001b[49m\u001b[43m \u001b[49m\u001b[43mlearning_rate\u001b[49m\u001b[43m)\u001b[49m\n",
      "\u001b[36mCell\u001b[39m\u001b[36m \u001b[39m\u001b[32mIn[43]\u001b[39m\u001b[32m, line 9\u001b[39m, in \u001b[36mtrain\u001b[39m\u001b[34m(train_dataloader, model, n_epochs, learning_rate)\u001b[39m\n\u001b[32m      6\u001b[39m criterion = nn.NLLLoss()\n\u001b[32m      8\u001b[39m \u001b[38;5;28;01mfor\u001b[39;00m epoch \u001b[38;5;129;01min\u001b[39;00m \u001b[38;5;28mrange\u001b[39m(\u001b[32m1\u001b[39m, n_epochs + \u001b[32m1\u001b[39m):\n\u001b[32m----> \u001b[39m\u001b[32m9\u001b[39m     loss = \u001b[43mtrain_epoch\u001b[49m\u001b[43m(\u001b[49m\u001b[43mtrain_dataloader\u001b[49m\u001b[43m,\u001b[49m\u001b[43m \u001b[49m\u001b[43mmodel\u001b[49m\u001b[43m,\u001b[49m\u001b[43m \u001b[49m\u001b[43moptimizer\u001b[49m\u001b[43m,\u001b[49m\u001b[43m \u001b[49m\u001b[43mcriterion\u001b[49m\u001b[43m)\u001b[49m\n\u001b[32m     10\u001b[39m     losses_list.append(loss)\n\u001b[32m     11\u001b[39m     \u001b[38;5;28mprint\u001b[39m(\u001b[33mf\u001b[39m\u001b[33m\"\u001b[39m\u001b[33mAt the \u001b[39m\u001b[38;5;132;01m{\u001b[39;00mepoch\u001b[38;5;132;01m}\u001b[39;00m\u001b[33m-th epoch :-\u001b[39m\u001b[33m\"\u001b[39m)\n",
      "\u001b[36mCell\u001b[39m\u001b[36m \u001b[39m\u001b[32mIn[41]\u001b[39m\u001b[32m, line 15\u001b[39m, in \u001b[36mtrain_epoch\u001b[39m\u001b[34m(dataloader, model, optimizer, criterion)\u001b[39m\n\u001b[32m     12\u001b[39m input_tensor, target_tensor = data\n\u001b[32m     14\u001b[39m optimizer.zero_grad()\n\u001b[32m---> \u001b[39m\u001b[32m15\u001b[39m decoder_outputs, _, _ = \u001b[43mmodel\u001b[49m\u001b[43m(\u001b[49m\u001b[43minput_tensor\u001b[49m\u001b[43m,\u001b[49m\u001b[43m \u001b[49m\u001b[43mtarget_tensor\u001b[49m\u001b[43m)\u001b[49m\n\u001b[32m     17\u001b[39m loss = criterion(\n\u001b[32m     18\u001b[39m     decoder_outputs.view(-\u001b[32m1\u001b[39m, decoder_outputs.size(-\u001b[32m1\u001b[39m)),\n\u001b[32m     19\u001b[39m     target_tensor.view(-\u001b[32m1\u001b[39m)\n\u001b[32m     20\u001b[39m )\n\u001b[32m     21\u001b[39m loss.backward()\n",
      "\u001b[36mFile \u001b[39m\u001b[32mc:\\Users\\soura\\Desktop\\Resume_Projects\\NEURAL_MT\\NEURAL_MT_ENV\\Lib\\site-packages\\torch\\nn\\modules\\module.py:1773\u001b[39m, in \u001b[36mModule._wrapped_call_impl\u001b[39m\u001b[34m(self, *args, **kwargs)\u001b[39m\n\u001b[32m   1771\u001b[39m     \u001b[38;5;28;01mreturn\u001b[39;00m \u001b[38;5;28mself\u001b[39m._compiled_call_impl(*args, **kwargs)  \u001b[38;5;66;03m# type: ignore[misc]\u001b[39;00m\n\u001b[32m   1772\u001b[39m \u001b[38;5;28;01melse\u001b[39;00m:\n\u001b[32m-> \u001b[39m\u001b[32m1773\u001b[39m     \u001b[38;5;28;01mreturn\u001b[39;00m \u001b[38;5;28;43mself\u001b[39;49m\u001b[43m.\u001b[49m\u001b[43m_call_impl\u001b[49m\u001b[43m(\u001b[49m\u001b[43m*\u001b[49m\u001b[43margs\u001b[49m\u001b[43m,\u001b[49m\u001b[43m \u001b[49m\u001b[43m*\u001b[49m\u001b[43m*\u001b[49m\u001b[43mkwargs\u001b[49m\u001b[43m)\u001b[49m\n",
      "\u001b[36mFile \u001b[39m\u001b[32mc:\\Users\\soura\\Desktop\\Resume_Projects\\NEURAL_MT\\NEURAL_MT_ENV\\Lib\\site-packages\\torch\\nn\\modules\\module.py:1784\u001b[39m, in \u001b[36mModule._call_impl\u001b[39m\u001b[34m(self, *args, **kwargs)\u001b[39m\n\u001b[32m   1779\u001b[39m \u001b[38;5;66;03m# If we don't have any hooks, we want to skip the rest of the logic in\u001b[39;00m\n\u001b[32m   1780\u001b[39m \u001b[38;5;66;03m# this function, and just call forward.\u001b[39;00m\n\u001b[32m   1781\u001b[39m \u001b[38;5;28;01mif\u001b[39;00m \u001b[38;5;129;01mnot\u001b[39;00m (\u001b[38;5;28mself\u001b[39m._backward_hooks \u001b[38;5;129;01mor\u001b[39;00m \u001b[38;5;28mself\u001b[39m._backward_pre_hooks \u001b[38;5;129;01mor\u001b[39;00m \u001b[38;5;28mself\u001b[39m._forward_hooks \u001b[38;5;129;01mor\u001b[39;00m \u001b[38;5;28mself\u001b[39m._forward_pre_hooks\n\u001b[32m   1782\u001b[39m         \u001b[38;5;129;01mor\u001b[39;00m _global_backward_pre_hooks \u001b[38;5;129;01mor\u001b[39;00m _global_backward_hooks\n\u001b[32m   1783\u001b[39m         \u001b[38;5;129;01mor\u001b[39;00m _global_forward_hooks \u001b[38;5;129;01mor\u001b[39;00m _global_forward_pre_hooks):\n\u001b[32m-> \u001b[39m\u001b[32m1784\u001b[39m     \u001b[38;5;28;01mreturn\u001b[39;00m \u001b[43mforward_call\u001b[49m\u001b[43m(\u001b[49m\u001b[43m*\u001b[49m\u001b[43margs\u001b[49m\u001b[43m,\u001b[49m\u001b[43m \u001b[49m\u001b[43m*\u001b[49m\u001b[43m*\u001b[49m\u001b[43mkwargs\u001b[49m\u001b[43m)\u001b[49m\n\u001b[32m   1786\u001b[39m result = \u001b[38;5;28;01mNone\u001b[39;00m\n\u001b[32m   1787\u001b[39m called_always_called_hooks = \u001b[38;5;28mset\u001b[39m()\n",
      "\u001b[36mCell\u001b[39m\u001b[36m \u001b[39m\u001b[32mIn[38]\u001b[39m\u001b[32m, line 59\u001b[39m, in \u001b[36mMyModel.forward\u001b[39m\u001b[34m(self, input_tensor, target_tensor)\u001b[39m\n\u001b[32m     56\u001b[39m context, attn_weights = \u001b[38;5;28mself\u001b[39m.attention(query, encoder_outputs)\n\u001b[32m     57\u001b[39m input_lstm = torch.cat((embedded, context), dim=\u001b[32m2\u001b[39m)\n\u001b[32m---> \u001b[39m\u001b[32m59\u001b[39m output, decoder_hidden = \u001b[38;5;28;43mself\u001b[39;49m\u001b[43m.\u001b[49m\u001b[43mlstm_dec\u001b[49m\u001b[43m(\u001b[49m\u001b[43minput_lstm\u001b[49m\u001b[43m,\u001b[49m\u001b[43m \u001b[49m\u001b[43mdecoder_hidden\u001b[49m\u001b[43m)\u001b[49m\n\u001b[32m     60\u001b[39m output = \u001b[38;5;28mself\u001b[39m.out(output)\n\u001b[32m     62\u001b[39m decoder_outputs.append(output)\n",
      "\u001b[36mFile \u001b[39m\u001b[32mc:\\Users\\soura\\Desktop\\Resume_Projects\\NEURAL_MT\\NEURAL_MT_ENV\\Lib\\site-packages\\torch\\nn\\modules\\module.py:1773\u001b[39m, in \u001b[36mModule._wrapped_call_impl\u001b[39m\u001b[34m(self, *args, **kwargs)\u001b[39m\n\u001b[32m   1771\u001b[39m     \u001b[38;5;28;01mreturn\u001b[39;00m \u001b[38;5;28mself\u001b[39m._compiled_call_impl(*args, **kwargs)  \u001b[38;5;66;03m# type: ignore[misc]\u001b[39;00m\n\u001b[32m   1772\u001b[39m \u001b[38;5;28;01melse\u001b[39;00m:\n\u001b[32m-> \u001b[39m\u001b[32m1773\u001b[39m     \u001b[38;5;28;01mreturn\u001b[39;00m \u001b[38;5;28;43mself\u001b[39;49m\u001b[43m.\u001b[49m\u001b[43m_call_impl\u001b[49m\u001b[43m(\u001b[49m\u001b[43m*\u001b[49m\u001b[43margs\u001b[49m\u001b[43m,\u001b[49m\u001b[43m \u001b[49m\u001b[43m*\u001b[49m\u001b[43m*\u001b[49m\u001b[43mkwargs\u001b[49m\u001b[43m)\u001b[49m\n",
      "\u001b[36mFile \u001b[39m\u001b[32mc:\\Users\\soura\\Desktop\\Resume_Projects\\NEURAL_MT\\NEURAL_MT_ENV\\Lib\\site-packages\\torch\\nn\\modules\\module.py:1784\u001b[39m, in \u001b[36mModule._call_impl\u001b[39m\u001b[34m(self, *args, **kwargs)\u001b[39m\n\u001b[32m   1779\u001b[39m \u001b[38;5;66;03m# If we don't have any hooks, we want to skip the rest of the logic in\u001b[39;00m\n\u001b[32m   1780\u001b[39m \u001b[38;5;66;03m# this function, and just call forward.\u001b[39;00m\n\u001b[32m   1781\u001b[39m \u001b[38;5;28;01mif\u001b[39;00m \u001b[38;5;129;01mnot\u001b[39;00m (\u001b[38;5;28mself\u001b[39m._backward_hooks \u001b[38;5;129;01mor\u001b[39;00m \u001b[38;5;28mself\u001b[39m._backward_pre_hooks \u001b[38;5;129;01mor\u001b[39;00m \u001b[38;5;28mself\u001b[39m._forward_hooks \u001b[38;5;129;01mor\u001b[39;00m \u001b[38;5;28mself\u001b[39m._forward_pre_hooks\n\u001b[32m   1782\u001b[39m         \u001b[38;5;129;01mor\u001b[39;00m _global_backward_pre_hooks \u001b[38;5;129;01mor\u001b[39;00m _global_backward_hooks\n\u001b[32m   1783\u001b[39m         \u001b[38;5;129;01mor\u001b[39;00m _global_forward_hooks \u001b[38;5;129;01mor\u001b[39;00m _global_forward_pre_hooks):\n\u001b[32m-> \u001b[39m\u001b[32m1784\u001b[39m     \u001b[38;5;28;01mreturn\u001b[39;00m \u001b[43mforward_call\u001b[49m\u001b[43m(\u001b[49m\u001b[43m*\u001b[49m\u001b[43margs\u001b[49m\u001b[43m,\u001b[49m\u001b[43m \u001b[49m\u001b[43m*\u001b[49m\u001b[43m*\u001b[49m\u001b[43mkwargs\u001b[49m\u001b[43m)\u001b[49m\n\u001b[32m   1786\u001b[39m result = \u001b[38;5;28;01mNone\u001b[39;00m\n\u001b[32m   1787\u001b[39m called_always_called_hooks = \u001b[38;5;28mset\u001b[39m()\n",
      "\u001b[36mFile \u001b[39m\u001b[32mc:\\Users\\soura\\Desktop\\Resume_Projects\\NEURAL_MT\\NEURAL_MT_ENV\\Lib\\site-packages\\torch\\nn\\modules\\rnn.py:1124\u001b[39m, in \u001b[36mLSTM.forward\u001b[39m\u001b[34m(self, input, hx)\u001b[39m\n\u001b[32m   1121\u001b[39m         hx = \u001b[38;5;28mself\u001b[39m.permute_hidden(hx, sorted_indices)\n\u001b[32m   1123\u001b[39m \u001b[38;5;28;01mif\u001b[39;00m batch_sizes \u001b[38;5;129;01mis\u001b[39;00m \u001b[38;5;28;01mNone\u001b[39;00m:\n\u001b[32m-> \u001b[39m\u001b[32m1124\u001b[39m     result = \u001b[43m_VF\u001b[49m\u001b[43m.\u001b[49m\u001b[43mlstm\u001b[49m\u001b[43m(\u001b[49m\n\u001b[32m   1125\u001b[39m \u001b[43m        \u001b[49m\u001b[38;5;28;43minput\u001b[39;49m\u001b[43m,\u001b[49m\n\u001b[32m   1126\u001b[39m \u001b[43m        \u001b[49m\u001b[43mhx\u001b[49m\u001b[43m,\u001b[49m\n\u001b[32m   1127\u001b[39m \u001b[43m        \u001b[49m\u001b[38;5;28;43mself\u001b[39;49m\u001b[43m.\u001b[49m\u001b[43m_flat_weights\u001b[49m\u001b[43m,\u001b[49m\u001b[43m  \u001b[49m\u001b[38;5;66;43;03m# type: ignore[arg-type]\u001b[39;49;00m\n\u001b[32m   1128\u001b[39m \u001b[43m        \u001b[49m\u001b[38;5;28;43mself\u001b[39;49m\u001b[43m.\u001b[49m\u001b[43mbias\u001b[49m\u001b[43m,\u001b[49m\n\u001b[32m   1129\u001b[39m \u001b[43m        \u001b[49m\u001b[38;5;28;43mself\u001b[39;49m\u001b[43m.\u001b[49m\u001b[43mnum_layers\u001b[49m\u001b[43m,\u001b[49m\n\u001b[32m   1130\u001b[39m \u001b[43m        \u001b[49m\u001b[38;5;28;43mself\u001b[39;49m\u001b[43m.\u001b[49m\u001b[43mdropout\u001b[49m\u001b[43m,\u001b[49m\n\u001b[32m   1131\u001b[39m \u001b[43m        \u001b[49m\u001b[38;5;28;43mself\u001b[39;49m\u001b[43m.\u001b[49m\u001b[43mtraining\u001b[49m\u001b[43m,\u001b[49m\n\u001b[32m   1132\u001b[39m \u001b[43m        \u001b[49m\u001b[38;5;28;43mself\u001b[39;49m\u001b[43m.\u001b[49m\u001b[43mbidirectional\u001b[49m\u001b[43m,\u001b[49m\n\u001b[32m   1133\u001b[39m \u001b[43m        \u001b[49m\u001b[38;5;28;43mself\u001b[39;49m\u001b[43m.\u001b[49m\u001b[43mbatch_first\u001b[49m\u001b[43m,\u001b[49m\n\u001b[32m   1134\u001b[39m \u001b[43m    \u001b[49m\u001b[43m)\u001b[49m\n\u001b[32m   1135\u001b[39m \u001b[38;5;28;01melse\u001b[39;00m:\n\u001b[32m   1136\u001b[39m     result = _VF.lstm(\n\u001b[32m   1137\u001b[39m         \u001b[38;5;28minput\u001b[39m,\n\u001b[32m   1138\u001b[39m         batch_sizes,\n\u001b[32m   (...)\u001b[39m\u001b[32m   1145\u001b[39m         \u001b[38;5;28mself\u001b[39m.bidirectional,\n\u001b[32m   1146\u001b[39m     )\n",
      "\u001b[31mKeyboardInterrupt\u001b[39m: "
     ]
    }
   ],
   "source": [
    "model.train()\n",
    "loss_list = train(train_dataloader, model, n_epochs, learning_rate)"
   ]
  },
  {
   "cell_type": "code",
   "execution_count": null,
   "metadata": {
    "colab": {
     "base_uri": "https://localhost:8080/"
    },
    "execution": {
     "iopub.execute_input": "2025-04-18T17:16:03.496734Z",
     "iopub.status.busy": "2025-04-18T17:16:03.496210Z",
     "iopub.status.idle": "2025-04-18T17:16:04.571809Z",
     "shell.execute_reply": "2025-04-18T17:16:04.571072Z",
     "shell.execute_reply.started": "2025-04-18T17:16:03.496709Z"
    },
    "id": "AamN-3SPJmcY",
    "outputId": "9177c376-be57-4f2f-acec-5c64b8ffafb2",
    "trusted": true
   },
   "outputs": [
    {
     "name": "stdout",
     "output_type": "stream",
     "text": [
      "Reading lines...\n",
      "Read 43297 sentence pairs\n",
      "Counting words...\n",
      "Counted words:\n",
      "bn 18920\n",
      "en 10320\n",
      "(43297, 27)\n",
      "[3]\n",
      "[2]\n",
      "[3 1 0 0 0 0 0 0 0 0 0 0 0 0 0 0 0 0 0 0 0 0 0 0 0 0 0]\n",
      "[2 1 0 0 0 0 0 0 0 0 0 0 0 0 0 0 0 0 0 0 0 0 0 0 0 0 0]\n",
      "(tensor([3, 1, 0, 0, 0, 0, 0, 0, 0, 0, 0, 0, 0, 0, 0, 0, 0, 0, 0, 0, 0, 0, 0, 0,\n",
      "        0, 0, 0], device='cuda:0'), tensor([2, 1, 0, 0, 0, 0, 0, 0, 0, 0, 0, 0, 0, 0, 0, 0, 0, 0, 0, 0, 0, 0, 0, 0,\n",
      "        0, 0, 0], device='cuda:0'))\n"
     ]
    }
   ],
   "source": [
    "# hidden_size = 128\n",
    "# batch_size = 32\n",
    "# n_epochs = 10\n",
    "# learning_rate=0.001\n",
    "\n",
    "# input_lang, output_lang, train_dataloader = get_dataloader(batch_size)\n",
    "\n",
    "# encoder = EncoderRNN(input_lang.n_words, hidden_size).to(device)\n",
    "# decoder = AttnDecoderRNN(hidden_size, output_lang.n_words).to(device)\n"
   ]
  },
  {
   "cell_type": "code",
   "execution_count": 46,
   "metadata": {},
   "outputs": [
    {
     "data": {
      "text/plain": [
       "<bound method Module.parameters of MyModel(\n",
       "  (embedding_enc): Embedding(18920, 128)\n",
       "  (lstm_enc): LSTM(128, 128, batch_first=True, bidirectional=True)\n",
       "  (dropout_enc): Dropout(p=0.1, inplace=False)\n",
       "  (Wa): Linear(in_features=128, out_features=128, bias=True)\n",
       "  (Ua): Linear(in_features=256, out_features=128, bias=True)\n",
       "  (Va): Linear(in_features=128, out_features=1, bias=True)\n",
       "  (embedding_dec): Embedding(10320, 128)\n",
       "  (lstm_dec): LSTM(384, 128, batch_first=True)\n",
       "  (out): Linear(in_features=128, out_features=10320, bias=True)\n",
       "  (dropout_dec): Dropout(p=0.1, inplace=False)\n",
       "  (reduce_h): Linear(in_features=256, out_features=128, bias=True)\n",
       "  (reduce_c): Linear(in_features=256, out_features=128, bias=True)\n",
       ")>"
      ]
     },
     "execution_count": 46,
     "metadata": {},
     "output_type": "execute_result"
    }
   ],
   "source": [
    "model.parameters"
   ]
  },
  {
   "cell_type": "code",
   "execution_count": null,
   "metadata": {
    "execution": {
     "iopub.execute_input": "2025-04-18T17:16:31.048760Z",
     "iopub.status.busy": "2025-04-18T17:16:31.048455Z",
     "iopub.status.idle": "2025-04-18T17:16:31.054034Z",
     "shell.execute_reply": "2025-04-18T17:16:31.053164Z",
     "shell.execute_reply.started": "2025-04-18T17:16:31.048740Z"
    },
    "trusted": true
   },
   "outputs": [
    {
     "data": {
      "text/plain": [
       "<bound method Module.parameters of EncoderRNN(\n",
       "  (embedding): Embedding(18920, 128)\n",
       "  (lstm): LSTM(128, 128, batch_first=True, bidirectional=True)\n",
       "  (dropout): Dropout(p=0.1, inplace=False)\n",
       ")>"
      ]
     },
     "execution_count": 45,
     "metadata": {},
     "output_type": "execute_result"
    }
   ],
   "source": [
    "# encoder.parameters"
   ]
  },
  {
   "cell_type": "code",
   "execution_count": null,
   "metadata": {
    "execution": {
     "iopub.execute_input": "2025-04-18T17:16:34.794719Z",
     "iopub.status.busy": "2025-04-18T17:16:34.793975Z",
     "iopub.status.idle": "2025-04-18T17:16:34.799306Z",
     "shell.execute_reply": "2025-04-18T17:16:34.798718Z",
     "shell.execute_reply.started": "2025-04-18T17:16:34.794661Z"
    },
    "trusted": true
   },
   "outputs": [
    {
     "data": {
      "text/plain": [
       "<bound method Module.parameters of AttnDecoderRNN(\n",
       "  (embedding): Embedding(10320, 128)\n",
       "  (attention): BahdanauAttention(\n",
       "    (Wa): Linear(in_features=128, out_features=128, bias=True)\n",
       "    (Ua): Linear(in_features=256, out_features=128, bias=True)\n",
       "    (Va): Linear(in_features=128, out_features=1, bias=True)\n",
       "  )\n",
       "  (lstm): LSTM(384, 128, batch_first=True)\n",
       "  (out): Linear(in_features=128, out_features=10320, bias=True)\n",
       "  (dropout): Dropout(p=0.1, inplace=False)\n",
       "  (reduce_h): Linear(in_features=256, out_features=128, bias=True)\n",
       "  (reduce_c): Linear(in_features=256, out_features=128, bias=True)\n",
       ")>"
      ]
     },
     "execution_count": 46,
     "metadata": {},
     "output_type": "execute_result"
    }
   ],
   "source": [
    "# decoder.parameters"
   ]
  },
  {
   "cell_type": "code",
   "execution_count": null,
   "metadata": {
    "execution": {
     "execution_failed": "2025-04-18T21:29:07.018Z",
     "iopub.execute_input": "2025-04-18T20:11:12.489617Z",
     "iopub.status.busy": "2025-04-18T20:11:12.488927Z"
    },
    "trusted": true
   },
   "outputs": [
    {
     "name": "stdout",
     "output_type": "stream",
     "text": [
      "At the 0-th iteration, the training loss is 0.0\n",
      "At the 1000-th iteration, the training loss is 0.2532339130192995\n",
      "At the 1-th epoch :-\n",
      "1m 21s (- 12m 16s) 0.2570\n",
      "At the 0-th iteration, the training loss is 0.0\n",
      "At the 1000-th iteration, the training loss is 0.2474772524535656\n",
      "At the 2-th epoch :-\n",
      "2m 43s (- 10m 54s) 0.2513\n",
      "At the 0-th iteration, the training loss is 0.0\n",
      "At the 1000-th iteration, the training loss is 0.24472207069396973\n",
      "At the 3-th epoch :-\n",
      "4m 5s (- 9m 33s) 0.2488\n",
      "At the 0-th iteration, the training loss is 0.0\n",
      "At the 1000-th iteration, the training loss is 0.2445441931784153\n",
      "At the 4-th epoch :-\n",
      "5m 27s (- 8m 10s) 0.2479\n",
      "At the 0-th iteration, the training loss is 0.0\n",
      "At the 1000-th iteration, the training loss is 0.24096273820102215\n",
      "At the 5-th epoch :-\n",
      "6m 49s (- 6m 49s) 0.2442\n",
      "At the 0-th iteration, the training loss is 0.0\n",
      "At the 1000-th iteration, the training loss is 0.2378548332452774\n",
      "At the 6-th epoch :-\n",
      "8m 10s (- 5m 27s) 0.2420\n",
      "At the 0-th iteration, the training loss is 0.0\n"
     ]
    }
   ],
   "source": [
    "# encoder.train()\n",
    "# decoder.train()\n",
    "# loss_list = train(train_dataloader, encoder, decoder, n_epochs, learning_rate)"
   ]
  },
  {
   "cell_type": "code",
   "execution_count": null,
   "metadata": {
    "execution": {
     "iopub.execute_input": "2025-04-18T18:00:49.639981Z",
     "iopub.status.busy": "2025-04-18T18:00:49.639711Z",
     "iopub.status.idle": "2025-04-18T18:00:49.692206Z",
     "shell.execute_reply": "2025-04-18T18:00:49.691716Z",
     "shell.execute_reply.started": "2025-04-18T18:00:49.639962Z"
    },
    "trusted": true
   },
   "outputs": [],
   "source": [
    "import matplotlib.pyplot as plt\n",
    "\n",
    "plt.plot(range(len(loss_list)), loss_list, label='Training Loss')\n",
    "plt.xlabel('Epoch')\n",
    "plt.ylabel('Loss')\n",
    "plt.title('Training Loss Over Epochs')\n",
    "plt.legend()\n",
    "plt.grid(True)\n",
    "plt.show()"
   ]
  },
  {
   "cell_type": "code",
   "execution_count": 133,
   "metadata": {
    "colab": {
     "base_uri": "https://localhost:8080/"
    },
    "execution": {
     "iopub.execute_input": "2025-04-18T20:04:57.089256Z",
     "iopub.status.busy": "2025-04-18T20:04:57.088522Z",
     "iopub.status.idle": "2025-04-18T20:04:57.093827Z",
     "shell.execute_reply": "2025-04-18T20:04:57.093211Z",
     "shell.execute_reply.started": "2025-04-18T20:04:57.089235Z"
    },
    "id": "jxmoTbTtJ6wH",
    "outputId": "d7f1b4b3-0a13-4842-c3c8-52b2f23f8645",
    "trusted": true
   },
   "outputs": [
    {
     "data": {
      "text/plain": [
       "[0.2843785828290345,\n",
       " 0.2790027569808847,\n",
       " 0.27457336275845196,\n",
       " 0.2715281860316874,\n",
       " 0.2683845982890978,\n",
       " 0.26555534293448646,\n",
       " 0.2627923678788336,\n",
       " 0.2607242783182129,\n",
       " 0.2581127020289662,\n",
       " 0.25504225606932424]"
      ]
     },
     "execution_count": 133,
     "metadata": {},
     "output_type": "execute_result"
    }
   ],
   "source": [
    "loss_list"
   ]
  },
  {
   "cell_type": "code",
   "execution_count": null,
   "metadata": {
    "id": "suV_9U2PPJcM"
   },
   "outputs": [],
   "source": []
  },
  {
   "cell_type": "markdown",
   "metadata": {
    "id": "4iQXuNDNP_zY"
   },
   "source": [
    "# Evaluation."
   ]
  },
  {
   "cell_type": "code",
   "execution_count": 47,
   "metadata": {
    "execution": {
     "iopub.execute_input": "2025-04-18T20:05:04.155288Z",
     "iopub.status.busy": "2025-04-18T20:05:04.155049Z",
     "iopub.status.idle": "2025-04-18T20:05:04.160487Z",
     "shell.execute_reply": "2025-04-18T20:05:04.159733Z",
     "shell.execute_reply.started": "2025-04-18T20:05:04.155272Z"
    },
    "id": "twJDPyfGP-R4",
    "trusted": true
   },
   "outputs": [],
   "source": [
    "def evaluate(model, sentence, input_lang, output_lang):\n",
    "    model.eval()\n",
    "    with torch.no_grad():\n",
    "        input_tensor = tensorFromSentence(input_lang, sentence)       # creating tensor from sentence.\n",
    "\n",
    "        #encoder_outputs, encoder_hidden = encoder(input_tensor)\n",
    "        #decoder_outputs, decoder_hidden, decoder_attn = decoder(encoder_outputs, encoder_hidden)\n",
    "        decoder_outputs, decoder_hidden, decoder_attn = model(input_tensor)\n",
    "\n",
    "        _, topi = decoder_outputs.topk(1)           # searching the index with high probabilities.\n",
    "        decoded_ids = topi.squeeze()\n",
    "\n",
    "        decoded_words = []\n",
    "        for idx in decoded_ids:\n",
    "            if idx.item() == EOS_token:\n",
    "                decoded_words.append('<EOS>')\n",
    "                break\n",
    "            decoded_words.append(output_lang.index2word[idx.item()])\n",
    "    return decoded_words, decoder_attn"
   ]
  },
  {
   "cell_type": "code",
   "execution_count": 56,
   "metadata": {
    "execution": {
     "iopub.execute_input": "2025-04-18T20:05:07.504511Z",
     "iopub.status.busy": "2025-04-18T20:05:07.503962Z",
     "iopub.status.idle": "2025-04-18T20:05:07.508716Z",
     "shell.execute_reply": "2025-04-18T20:05:07.508071Z",
     "shell.execute_reply.started": "2025-04-18T20:05:07.504489Z"
    },
    "id": "PxPsxzAqQI2q",
    "trusted": true
   },
   "outputs": [],
   "source": [
    "def evaluateRandomly(model, pairs, input_lang, output_lang, n=10):\n",
    "    for i in range(n):\n",
    "        pair = random.choice(pairs)\n",
    "        print('>', pair[0])\n",
    "        print('=', pair[1])\n",
    "        output_words, _ = evaluate(model, pair[0], input_lang, output_lang)\n",
    "        output_sentence = ' '.join(output_words)\n",
    "        print('<', output_sentence)\n",
    "        print('')"
   ]
  },
  {
   "cell_type": "code",
   "execution_count": 49,
   "metadata": {
    "execution": {
     "iopub.execute_input": "2025-04-18T18:01:24.276047Z",
     "iopub.status.busy": "2025-04-18T18:01:24.275791Z",
     "iopub.status.idle": "2025-04-18T18:01:24.281573Z",
     "shell.execute_reply": "2025-04-18T18:01:24.280728Z",
     "shell.execute_reply.started": "2025-04-18T18:01:24.276027Z"
    },
    "trusted": true
   },
   "outputs": [
    {
     "data": {
      "text/plain": [
       "[['যান', 'go'],\n",
       " ['যা', 'go'],\n",
       " ['পালাও', 'run'],\n",
       " ['পালান', 'run'],\n",
       " ['কে', 'who']]"
      ]
     },
     "execution_count": 49,
     "metadata": {},
     "output_type": "execute_result"
    }
   ],
   "source": [
    "pairs[:5]"
   ]
  },
  {
   "cell_type": "code",
   "execution_count": 50,
   "metadata": {
    "execution": {
     "iopub.execute_input": "2025-04-18T20:05:12.937468Z",
     "iopub.status.busy": "2025-04-18T20:05:12.937199Z",
     "iopub.status.idle": "2025-04-18T20:05:12.942214Z",
     "shell.execute_reply": "2025-04-18T20:05:12.941614Z",
     "shell.execute_reply.started": "2025-04-18T20:05:12.937447Z"
    },
    "trusted": true
   },
   "outputs": [
    {
     "data": {
      "text/plain": [
       "<__main__.Lang at 0x266246cc2d0>"
      ]
     },
     "execution_count": 50,
     "metadata": {},
     "output_type": "execute_result"
    }
   ],
   "source": [
    "input_lang"
   ]
  },
  {
   "cell_type": "code",
   "execution_count": 51,
   "metadata": {
    "execution": {
     "iopub.execute_input": "2025-04-18T20:05:15.915561Z",
     "iopub.status.busy": "2025-04-18T20:05:15.915021Z",
     "iopub.status.idle": "2025-04-18T20:05:15.920461Z",
     "shell.execute_reply": "2025-04-18T20:05:15.919796Z",
     "shell.execute_reply.started": "2025-04-18T20:05:15.915535Z"
    },
    "trusted": true
   },
   "outputs": [
    {
     "data": {
      "text/plain": [
       "<__main__.Lang at 0x26622ef6bd0>"
      ]
     },
     "execution_count": 51,
     "metadata": {},
     "output_type": "execute_result"
    }
   ],
   "source": [
    "output_lang"
   ]
  },
  {
   "cell_type": "code",
   "execution_count": 52,
   "metadata": {
    "execution": {
     "iopub.execute_input": "2025-04-18T19:41:35.888826Z",
     "iopub.status.busy": "2025-04-18T19:41:35.888224Z",
     "iopub.status.idle": "2025-04-18T19:41:35.892559Z",
     "shell.execute_reply": "2025-04-18T19:41:35.891836Z",
     "shell.execute_reply.started": "2025-04-18T19:41:35.888802Z"
    },
    "trusted": true
   },
   "outputs": [],
   "source": [
    "dummy_pair = [\n",
    "    ['আমি খুব ভালো', 'I am very good'],\n",
    "    ['দরজা খোল', 'Open the door'],\n",
    "    ['সে খুব খুশি', 'He is very happy'],\n",
    "    ['যান', 'go']\n",
    "]\n"
   ]
  },
  {
   "cell_type": "code",
   "execution_count": 53,
   "metadata": {
    "execution": {
     "iopub.execute_input": "2025-04-18T20:05:23.397455Z",
     "iopub.status.busy": "2025-04-18T20:05:23.396972Z",
     "iopub.status.idle": "2025-04-18T20:05:23.403250Z",
     "shell.execute_reply": "2025-04-18T20:05:23.402456Z",
     "shell.execute_reply.started": "2025-04-18T20:05:23.397431Z"
    },
    "trusted": true
   },
   "outputs": [],
   "source": [
    "def evaluateBLEU(model, pairs, input_lang, output_lang, n=100):\n",
    "    smoothie = SmoothingFunction().method4\n",
    "    total_score = 0\n",
    "\n",
    "    for i in range(n):\n",
    "        pair = random.choice(pairs)\n",
    "        output_words, _ = evaluate(model, pair[0], input_lang, output_lang)\n",
    "\n",
    "        # Remove <EOS> and other special tokens from predicted output\n",
    "        output_words = [word for word in output_words if word not in ['<EOS>', '<PAD>', '<SOS>']]\n",
    "\n",
    "        # Prepare reference (true translation) token list\n",
    "        reference = pair[1].split()  # ground truth\n",
    "        candidate = output_words     # model output\n",
    "\n",
    "        # Calculate BLEU score for the current pair\n",
    "        score = sentence_bleu([reference], candidate, smoothing_function=smoothie)\n",
    "        total_score += score\n",
    "\n",
    "        print(f\"Input: {pair[0]}\")\n",
    "        print(f\"Target: {pair[1]}\")\n",
    "        print(f\"Predicted: {' '.join(candidate)}\")\n",
    "        print(f\"BLEU: {score:.4f}\\n\")\n",
    "\n",
    "    avg_bleu = total_score / n\n",
    "    print(f\"Average BLEU score over {n} samples: {avg_bleu:.4f}\")\n",
    "    return avg_bleu\n"
   ]
  },
  {
   "cell_type": "code",
   "execution_count": 54,
   "metadata": {
    "execution": {
     "iopub.execute_input": "2025-04-18T20:05:39.488704Z",
     "iopub.status.busy": "2025-04-18T20:05:39.488115Z",
     "iopub.status.idle": "2025-04-18T20:05:40.290306Z",
     "shell.execute_reply": "2025-04-18T20:05:40.289717Z",
     "shell.execute_reply.started": "2025-04-18T20:05:39.488680Z"
    },
    "trusted": true
   },
   "outputs": [
    {
     "name": "stdout",
     "output_type": "stream",
     "text": [
      "Input: মুখে লাঠি নিয়ে একটি কুকুর সাঁতার কাটছ\n",
      "Target: a dog swimming though water holding a stick\n",
      "Predicted: a dog with a dog is running through the grass\n",
      "BLEU: 0.0630\n",
      "\n",
      "Input: দর্শকেরা একটি জার্মান শেফার্ড কুকুরের বিভিন্ন কসরত উপভোগ করছে\n",
      "Target: onlookers watch a german shephard climb steps on an obstacle course\n",
      "Predicted: a dog with a dog\n",
      "BLEU: 0.0137\n",
      "\n",
      "Input: লাল জামা-কালো প্যান্ট পরিহিত একটি লোক ও সাদা জামা-তামাটে ছোটো প্যান্ট পরিহিত একটি লোক গল্ফ খেলছ\n",
      "Target: one man in red shirt and black pants with a man in white shirt and tan shorts , golfing\n",
      "Predicted: a man in a red shirt and white shirt and a red shirt and a red shirt is playing with a red shirt\n",
      "BLEU: 0.1327\n",
      "\n",
      "Input: দুইটি কুকুর বরফের মধ্যে লড়াই করছ\n",
      "Target: two dogs are fighting in the snow\n",
      "Predicted: two dogs are running through the grass\n",
      "BLEU: 0.2075\n",
      "\n",
      "Input: চারজন ব্যক্তি শহুরে ফুটপাথে হাটছেন এবং সবুজ টুপি পরা ব্যক্তি সেলফোনে কথা বলছে\n",
      "Target: four people are walking along a city sidewalk , while the one in the green hat talks on a cellphone\n",
      "Predicted: a man in a red shirt and a red shirt and a red shirt is standing on a street\n",
      "BLEU: 0.0351\n",
      "\n",
      "Input: এক পুরুষ আর মহিলা চুমু খাচ্ছ\n",
      "Target: a woman and a man are kissing\n",
      "Predicted: a woman and a woman and a woman\n",
      "BLEU: 0.3457\n",
      "\n",
      "Input: লাল খেলয়াড় একজন অপরকপ অভিনন্দন জানাচ্ছে এবং দর্শকরা উৎসাহ দিচ্ছ\n",
      "Target: football players in red congratulate each other as crowds in red cheer behind\n",
      "Predicted: a woman in a red shirt and a red shirt is standing on a street\n",
      "BLEU: 0.0218\n",
      "\n",
      "Input: আমি এবার বেরোবো\n",
      "Target: i am going to go\n",
      "Predicted: i am not i am not my i have i am not player player wearing a boy is running through the air\n",
      "BLEU: 0.0272\n",
      "\n",
      "Input: বাদামী কুকুরটি বাইরে খেলছে\n",
      "Target: the brown dog is playing outdoors\n",
      "Predicted: a brown dog is running through the grass\n",
      "BLEU: 0.1774\n",
      "\n",
      "Input: বিভিন্ন ক্রিয়াকলাপ করছে লোকদের একটি বিশাল গ্রুপ\n",
      "Target: a large group of people doing varied activities\n",
      "Predicted: two people are standing in a field of a building\n",
      "BLEU: 0.0309\n",
      "\n",
      "Input: একটি ছোট ব্রাউন কুকুর কাঠের খুঁটির কাছে ড্রাইভওয়েতে দাঁড়িয়ে আছে তার জিহ্বা বের কর\n",
      "Target: a small brown dog stands on a driveway near wooden poles with his tongue sticking out\n",
      "Predicted: a dog with a dog with a dog with a dog\n",
      "BLEU: 0.0194\n",
      "\n",
      "Input: নেকড়ে মানুষের মুখোশ পরিহিত একজন লোক বড় কানের একজন মহিলার সাথ\n",
      "Target: a man in a werewolf mask is with a woman wearing elf ears\n",
      "Predicted: a man in a red shirt is standing on a street\n",
      "BLEU: 0.2165\n",
      "\n",
      "Input: শরতকালে পাতা ঝড়ে যায়\n",
      "Target: leaves fall in the autumn\n",
      "Predicted: SOS SOS SOS SOS SOS SOS SOS SOS SOS SOS SOS SOS SOS SOS SOS SOS SOS SOS SOS SOS SOS SOS SOS SOS SOS SOS SOS\n",
      "BLEU: 0.0000\n",
      "\n",
      "Input: আমি এখন খেতে চাই\n",
      "Target: i would like to eat now\n",
      "Predicted: i am not want to come SOS SOS SOS SOS SOS SOS SOS SOS SOS SOS SOS SOS SOS SOS SOS SOS SOS SOS SOS SOS SOS\n",
      "BLEU: 0.0121\n",
      "\n",
      "Input: স্নোবোর্ডের একটি ব্যক্তি একটি রেম্প নাকাল করছে\n",
      "Target: a man on a snowboard is grinding a ramp\n",
      "Predicted: a man in a red shirt is running on a beach\n",
      "BLEU: 0.0812\n",
      "\n",
      "Input: একটি মেয়ে তার স্কুটার দিয়ে গতিবেগে ছুটে চলেছে\n",
      "Target: a girl speeds by on her scooter\n",
      "Predicted: a boy in the air\n",
      "BLEU: 0.0306\n",
      "\n",
      "Input: দুই বাচ্চা পানির উপর বোর্ডওয়াকে ছুটছে\n",
      "Target: two children run along a boardwalk that crosses over a body of water\n",
      "Predicted: two children are playing in a field\n",
      "BLEU: 0.0385\n",
      "\n",
      "Input: টম মেরিকে মারার চেষ্টা করলো\n",
      "Target: tom tried to hit mary\n",
      "Predicted: tom SOS SOS SOS SOS SOS SOS SOS SOS SOS SOS SOS SOS SOS SOS SOS SOS SOS SOS SOS SOS SOS SOS SOS SOS SOS SOS\n",
      "BLEU: 0.0102\n",
      "\n",
      "Input: ব্যস্ত জনসাধারণের জায়গায় একটি লোক পালঙ্কে বসার সময় কুঁচকে যায\n",
      "Target: a man curls up while sitting on a couch in a busy public area\n",
      "Predicted: a man in a red shirt is jumping over a mountain\n",
      "BLEU: 0.0591\n",
      "\n",
      "Input: সৈকতে একটি ছোটো টেরিয়ার কুকু\n",
      "Target: a small terrier plays with a tennis ball on the beach\n",
      "Predicted: a man in a red shirt is running through the grass\n",
      "BLEU: 0.0284\n",
      "\n",
      "Input: চারটি ছোট বাচ্চা প্রতিকৃতির জন্য পোজ দিচ্ছিলো, দুটি ছেলে শিশু সামনে দাঁড়িয়ে,দু'জন মেয়ে পিছনে হাসছ\n",
      "Target: four young children dressed formally pose for a potrait with the two boys standing in front and the two girls smiling in the back\n",
      "Predicted: two young boys are playing with a small boy in a field\n",
      "BLEU: 0.0115\n",
      "\n",
      "Input: একটি শিশু পার্কে তার তিন চাকার ছোট সাইকেলের সিটের উপর দাঁড়িয়ে আছ\n",
      "Target: the child stand on the seat of his trike in the park\n",
      "Predicted: a young boy is jumping over a large ball\n",
      "BLEU: 0.0000\n",
      "\n",
      "Input: ৫ নং খেলোয়াড় বাস্কেটবল খেলছে মায়ামির জন্\n",
      "Target: number five plays basketball for miami\n",
      "Predicted: a woman in a red shirt is running through the air\n",
      "BLEU: 0.0000\n",
      "\n",
      "Input: তারা আমাদের কী করে ভুলে যেতে পারে\n",
      "Target: how could they forget us\n",
      "Predicted: two young girls are playing in the air\n",
      "BLEU: 0.0000\n",
      "\n",
      "Input: জিমন্যাস্ট একটি লাল পোশাক পরে জাম্পিং করছে\n",
      "Target: the gymnast is wearing a red outfit and jumping\n",
      "Predicted: a man in a red shirt is standing on a red\n",
      "BLEU: 0.0574\n",
      "\n",
      "Input: হলুদ শার্ট এবং হালকা বাদামী শর্টসযুক্ত একটি ছেলে প্রতিটি হাতে একটি চামচ নিয়ে ভঙ্গি করছে\n",
      "Target: a boy with a yellow shirt and light brown shorts is posing with a long dipping spoon in each hand\n",
      "Predicted: a woman in a red shirt and a red shirt is jumping on a red and white dog\n",
      "BLEU: 0.0400\n",
      "\n",
      "Input: দুই ছোট্ট মেয়ে ঘরের ভিতরে হাসিমুখে দাঁড়িয়ে আছে\n",
      "Target: the young girl is happily standing inside the house\n",
      "Predicted: two young girls are sitting on a street\n",
      "BLEU: 0.0252\n",
      "\n",
      "Input: একটি মেলায় একজন লোক তার বাচ্চাকে খেলনার উঠানোর জন্য নিয়ে যাচ্ছ\n",
      "Target: a man taking a child on a ride at a fair\n",
      "Predicted: a man in a red shirt and a dog\n",
      "BLEU: 0.0602\n",
      "\n",
      "Input: এক ব্যক্তি কিছু গাছপালার সামনে একটি শালতিতে বসা\n",
      "Target: a reson is in a blue canoe in front of some plants\n",
      "Predicted: a man in a red shirt and a man is holding a large boy in the background\n",
      "BLEU: 0.0433\n",
      "\n",
      "Input: দুইজন প্রাপ্তবয়স্ক যুবক এবং যুবতী একটি দরজার সামনে পরস্পরকে জড়িয়ে ধরে আছ\n",
      "Target: two young adults holding each other in front of a door\n",
      "Predicted: two young girls are standing in a field of a building and a building\n",
      "BLEU: 0.0617\n",
      "\n",
      "Input: ঘুড়ি নিয়ে আকাশে উড়ছে একজন আকাশে চড়নদার\n",
      "Target: kite flying high in the sky with sky rider\n",
      "Predicted: a woman in a red shirt is running through the water\n",
      "BLEU: 0.0257\n",
      "\n",
      "Input: চিনের বাজারের সামনে পুরুষরা হাসে\n",
      "Target: men smiles in front of chinese market\n",
      "Predicted: two people are sitting on a street with a man in a field\n",
      "BLEU: 0.0187\n",
      "\n",
      "Input: বাসের জানলার পাশে লাল জামা, ফুলের প্রিন্ট করা টাই পরে একজন লোক বসে আছ\n",
      "Target: the man in the red shirt and flowery tie is sitting on a bus by the window\n",
      "Predicted: a man in a red shirt is standing on a red and white shirt and a red shirt\n",
      "BLEU: 0.0653\n",
      "\n",
      "Input: একজন লোক নিরাপত্তা রশি বেয়ে পর্বত বেয়ে উঠছ\n",
      "Target: a shirtless man climbing up the rock wall with rope safety line\n",
      "Predicted: a man in a green shirt is running through the water\n",
      "BLEU: 0.0260\n",
      "\n",
      "Input: একজন খেলোয়াড় বলে পা দিয়ে আঘাত করছে\n",
      "Target: a man in a number ten jersey kicks a soccer ball while another team member watches\n",
      "Predicted: a dirt bike\n",
      "BLEU: 0.0010\n",
      "\n",
      "Input: উজ্জ্বল লাল চুলযুক্ত শীর্ষস্থানীয় মহিলা একটি সমকামী গর্বের কুচকাওয়াজ দেখছেন\n",
      "Target: a topless woman with bright red hair watches a gay pride parade\n",
      "Predicted: a woman in a red shirt is standing on a red and white shirt\n",
      "BLEU: 0.0249\n",
      "\n",
      "Input: আপনার কিছু জানানোর আছে\n",
      "Target: do you have something to declare\n",
      "Predicted: i do not want to be\n",
      "BLEU: 0.0447\n",
      "\n",
      "Input: দু'জন মহিলা একটি কিডি পুকুরে কাদা কুস্তি করছেন\n",
      "Target: two woman are mud wrestling in a kiddie pool\n",
      "Predicted: two young girls are playing in a field\n",
      "BLEU: 0.0748\n",
      "\n",
      "Input: লাল জামা পরা ছেলেটি একটি বড় শিলায় উঠছ\n",
      "Target: a boy with a red shirt climbs a large rock while a man with a red shirt helps him\n",
      "Predicted: a woman in a red shirt is running through a red shirt\n",
      "BLEU: 0.1032\n",
      "\n",
      "Input: দুটি বিশাল কুকুর একসাথে বরফে খেলছে\n",
      "Target: two large dogs play together in the snow\n",
      "Predicted: two dogs are playing in the grass\n",
      "BLEU: 0.0845\n",
      "\n",
      "Input: একজন বালক মাটির কাছে সাপসহ একটি জাল ধরে আছ\n",
      "Target: a boy holds a net with a snake in it close to the ground\n",
      "Predicted: a woman is holding a large ball\n",
      "BLEU: 0.0142\n",
      "\n",
      "Input: একজন স্কেটবোর্ডার একটি হ্যান্ড্রেল এর নীচে স্লাইড করে\n",
      "Target: a skateboarder slides down a handrail\n",
      "Predicted: a man in a park\n",
      "BLEU: 0.0444\n",
      "\n",
      "Input: সবুজ জ্যাকেট পরিহিত একটি কুকুর বরফে হাঁটছ\n",
      "Target: a dog wearing a green sweater and a backpack walking on snow\n",
      "Predicted: a black dog is running in the grass\n",
      "BLEU: 0.0206\n",
      "\n",
      "Input: সাদা গেঞ্জি পড়া স্কেটবোর্ডার শূন্যে লাফ দিচ্ছে\n",
      "Target: the skateboarder in the white shirt jumped into the air\n",
      "Predicted: a woman in a black shirt is running through the grass\n",
      "BLEU: 0.0284\n",
      "\n",
      "Input: রেইনকোট পড়ে এক দম্পতি ছবি তুলছে\n",
      "Target: the man and woman are wearing a protective plastic raincoat\n",
      "Predicted: a woman in a red shirt and a man is holding a woman\n",
      "BLEU: 0.0265\n",
      "\n",
      "Input: একটি প্রতিযোগিতায় একদল সাইকেল চালক\n",
      "Target: a group of bicyclists in a race\n",
      "Predicted: a man in a field\n",
      "BLEU: 0.0899\n",
      "\n",
      "Input: একটি মহিলা ও কুকুরের পশ্চাতদে\n",
      "Target: the backs of a woman and a dog\n",
      "Predicted: a woman and a dog are playing in the grass\n",
      "BLEU: 0.4111\n",
      "\n",
      "Input: একটি শিশু পানির পাশে কাঠের ফেরিঘাটে দাঁড়িয়ে আছে\n",
      "Target: a young child stands on a wood dock next to the water\n",
      "Predicted: a small boy is holding a large ball\n",
      "BLEU: 0.0206\n",
      "\n",
      "Input: দৌড়াতে থাকা একজন রাগবি খেলোয়াড়ের কাছ থেকে আরেকজন খেলোয়ার বলটি নেওয়ার চেষ্টা কর\n",
      "Target: one football player attempts to get the ball from another football player who is running\n",
      "Predicted: a woman in a red shirt is running through the water\n",
      "BLEU: 0.0399\n",
      "\n",
      "Input: একজন বালক একটি পানির খেলনার ওপর লাফ দিচ্ছে এবং অন্য পাঁচজন তাকিয়ে আছ\n",
      "Target: a young boy leaps onto a water toy while five people look on\n",
      "Predicted: a young boy is holding a ball in the air\n",
      "BLEU: 0.1024\n",
      "\n",
      "Average BLEU score over 50 samples: 0.0623\n"
     ]
    },
    {
     "data": {
      "text/plain": [
       "0.062342841055212365"
      ]
     },
     "execution_count": 54,
     "metadata": {},
     "output_type": "execute_result"
    }
   ],
   "source": [
    "evaluateBLEU(model, pairs, input_lang, output_lang, n=50)"
   ]
  },
  {
   "cell_type": "code",
   "execution_count": 57,
   "metadata": {
    "colab": {
     "base_uri": "https://localhost:8080/"
    },
    "execution": {
     "iopub.execute_input": "2025-04-18T20:10:24.622407Z",
     "iopub.status.busy": "2025-04-18T20:10:24.621641Z",
     "iopub.status.idle": "2025-04-18T20:10:24.678013Z",
     "shell.execute_reply": "2025-04-18T20:10:24.677435Z",
     "shell.execute_reply.started": "2025-04-18T20:10:24.622381Z"
    },
    "id": "I44gYLNjQONo",
    "outputId": "e0d70f0e-3306-45e6-a2d9-214a26bc4565",
    "trusted": true
   },
   "outputs": [
    {
     "name": "stdout",
     "output_type": "stream",
     "text": [
      "> আমি খুব ভালো\n",
      "= I am very good\n",
      "< i am SOS SOS SOS SOS SOS SOS SOS SOS SOS SOS SOS SOS SOS SOS SOS SOS SOS SOS SOS SOS SOS SOS SOS SOS SOS\n",
      "\n",
      "> দরজা খোল\n",
      "= Open the door\n",
      "< SOS SOS SOS SOS SOS SOS SOS SOS SOS SOS SOS SOS SOS SOS SOS SOS SOS SOS SOS SOS SOS SOS SOS SOS SOS SOS SOS\n",
      "\n",
      "> যান\n",
      "= go\n",
      "< SOS SOS SOS SOS SOS SOS SOS SOS SOS SOS SOS SOS SOS SOS SOS SOS SOS SOS SOS SOS SOS SOS SOS SOS SOS SOS SOS\n",
      "\n"
     ]
    }
   ],
   "source": [
    "evaluateRandomly(model, dummy_pair, input_lang, output_lang, n = 3)"
   ]
  },
  {
   "cell_type": "code",
   "execution_count": null,
   "metadata": {
    "id": "PP9wkvTKQ1nA"
   },
   "outputs": [],
   "source": []
  },
  {
   "cell_type": "markdown",
   "metadata": {},
   "source": [
    "# Visualization"
   ]
  },
  {
   "cell_type": "code",
   "execution_count": null,
   "metadata": {
    "id": "BaLFyq-GSaa5"
   },
   "outputs": [],
   "source": [
    "def showAttention(input_sentence, output_words, attentions):\n",
    "    fig = plt.figure()\n",
    "    ax = fig.add_subplot(111)\n",
    "    cax = ax.matshow(attentions.cpu().numpy(), cmap='bone')\n",
    "    fig.colorbar(cax)\n",
    "\n",
    "    # Set up axes\n",
    "    ax.set_xticklabels([''] + input_sentence.split(' ') +\n",
    "                       ['<EOS>'], rotation=90)\n",
    "    ax.set_yticklabels([''] + output_words)\n",
    "\n",
    "    # Show label at every tick\n",
    "    ax.xaxis.set_major_locator(ticker.MultipleLocator(1))\n",
    "    ax.yaxis.set_major_locator(ticker.MultipleLocator(1))\n",
    "\n",
    "    plt.show()\n",
    "\n",
    "\n",
    "def evaluateAndShowAttention(input_sentence):\n",
    "    output_words, attentions = evaluate(model, input_sentence, input_lang, output_lang)\n",
    "    print('input =', input_sentence)\n",
    "    print('output =', ' '.join(output_words))\n",
    "    showAttention(input_sentence, output_words, attentions[0, :len(output_words), :])\n",
    "\n",
    "\n"
   ]
  },
  {
   "cell_type": "code",
   "execution_count": null,
   "metadata": {
    "colab": {
     "base_uri": "https://localhost:8080/"
    },
    "id": "2_NJ72ujzTqU",
    "outputId": "89363e62-1ea0-4097-bd14-c30b9034c1ac"
   },
   "outputs": [
    {
     "name": "stdout",
     "output_type": "stream",
     "text": [
      "input = il n est pas aussi grand que son pere\n",
      "output = he is not as tall as his father <EOS>\n",
      "input = je suis trop fatigue pour conduire\n",
      "output = i m too tired to drive <EOS>\n",
      "input = je suis desole si c est une question idiote\n",
      "output = i m sorry if this is a stupid question <EOS>\n",
      "input = je suis reellement fiere de vous\n",
      "output = i m really proud of you <EOS>\n"
     ]
    },
    {
     "name": "stderr",
     "output_type": "stream",
     "text": [
      "<ipython-input-22-e5a954b36ffc>:8: UserWarning: FixedFormatter should only be used together with FixedLocator\n",
      "  ax.set_xticklabels([''] + input_sentence.split(' ') +\n",
      "<ipython-input-22-e5a954b36ffc>:10: UserWarning: FixedFormatter should only be used together with FixedLocator\n",
      "  ax.set_yticklabels([''] + output_words)\n"
     ]
    }
   ],
   "source": [
    "evaluateAndShowAttention('il n est pas aussi grand que son pere')\n",
    "\n",
    "evaluateAndShowAttention('je suis trop fatigue pour conduire')\n",
    "\n",
    "evaluateAndShowAttention('je suis desole si c est une question idiote')\n",
    "\n",
    "evaluateAndShowAttention('je suis reellement fiere de vous')"
   ]
  },
  {
   "cell_type": "code",
   "execution_count": null,
   "metadata": {
    "id": "5mZPo_IcSgec"
   },
   "outputs": [],
   "source": []
  }
 ],
 "metadata": {
  "colab": {
   "provenance": []
  },
  "kaggle": {
   "accelerator": "none",
   "dataSources": [
    {
     "datasetId": 1118439,
     "sourceId": 1878727,
     "sourceType": "datasetVersion"
    },
    {
     "datasetId": 7174435,
     "sourceId": 11450860,
     "sourceType": "datasetVersion"
    }
   ],
   "dockerImageVersionId": 31012,
   "isGpuEnabled": false,
   "isInternetEnabled": true,
   "language": "python",
   "sourceType": "notebook"
  },
  "kernelspec": {
   "display_name": "NEURAL_MT_ENV",
   "language": "python",
   "name": "python3"
  },
  "language_info": {
   "codemirror_mode": {
    "name": "ipython",
    "version": 3
   },
   "file_extension": ".py",
   "mimetype": "text/x-python",
   "name": "python",
   "nbconvert_exporter": "python",
   "pygments_lexer": "ipython3",
   "version": "3.11.5"
  }
 },
 "nbformat": 4,
 "nbformat_minor": 4
}
